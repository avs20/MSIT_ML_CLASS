{
 "cells": [
  {
   "cell_type": "markdown",
   "metadata": {},
   "source": [
    "Load  the data"
   ]
  },
  {
   "cell_type": "code",
   "execution_count": 2,
   "metadata": {
    "collapsed": true
   },
   "outputs": [],
   "source": [
    "import pandas as pd \n",
    "import numpy as np "
   ]
  },
  {
   "cell_type": "code",
   "execution_count": 3,
   "metadata": {
    "scrolled": true
   },
   "outputs": [
    {
     "data": {
      "text/html": [
       "<div>\n",
       "<style>\n",
       "    .dataframe thead tr:only-child th {\n",
       "        text-align: right;\n",
       "    }\n",
       "\n",
       "    .dataframe thead th {\n",
       "        text-align: left;\n",
       "    }\n",
       "\n",
       "    .dataframe tbody tr th {\n",
       "        vertical-align: top;\n",
       "    }\n",
       "</style>\n",
       "<table border=\"1\" class=\"dataframe\">\n",
       "  <thead>\n",
       "    <tr style=\"text-align: right;\">\n",
       "      <th></th>\n",
       "      <th>RM</th>\n",
       "      <th>LSTAT</th>\n",
       "      <th>PTRATIO</th>\n",
       "      <th>MEDV</th>\n",
       "    </tr>\n",
       "  </thead>\n",
       "  <tbody>\n",
       "    <tr>\n",
       "      <th>0</th>\n",
       "      <td>6.575</td>\n",
       "      <td>4.98</td>\n",
       "      <td>15.3</td>\n",
       "      <td>504000.0</td>\n",
       "    </tr>\n",
       "    <tr>\n",
       "      <th>1</th>\n",
       "      <td>6.421</td>\n",
       "      <td>9.14</td>\n",
       "      <td>17.8</td>\n",
       "      <td>453600.0</td>\n",
       "    </tr>\n",
       "    <tr>\n",
       "      <th>2</th>\n",
       "      <td>7.185</td>\n",
       "      <td>4.03</td>\n",
       "      <td>17.8</td>\n",
       "      <td>728700.0</td>\n",
       "    </tr>\n",
       "    <tr>\n",
       "      <th>3</th>\n",
       "      <td>6.998</td>\n",
       "      <td>2.94</td>\n",
       "      <td>18.7</td>\n",
       "      <td>701400.0</td>\n",
       "    </tr>\n",
       "    <tr>\n",
       "      <th>4</th>\n",
       "      <td>7.147</td>\n",
       "      <td>5.33</td>\n",
       "      <td>18.7</td>\n",
       "      <td>760200.0</td>\n",
       "    </tr>\n",
       "  </tbody>\n",
       "</table>\n",
       "</div>"
      ],
      "text/plain": [
       "      RM  LSTAT  PTRATIO      MEDV\n",
       "0  6.575   4.98     15.3  504000.0\n",
       "1  6.421   9.14     17.8  453600.0\n",
       "2  7.185   4.03     17.8  728700.0\n",
       "3  6.998   2.94     18.7  701400.0\n",
       "4  7.147   5.33     18.7  760200.0"
      ]
     },
     "execution_count": 3,
     "metadata": {},
     "output_type": "execute_result"
    }
   ],
   "source": [
    "data = pd.read_csv('../datasets/boston_housing.csv')\n",
    "data.head()"
   ]
  },
  {
   "cell_type": "markdown",
   "metadata": {},
   "source": [
    "# Convert the dataframe to numpy array using \n",
    "`.values`"
   ]
  },
  {
   "cell_type": "code",
   "execution_count": 4,
   "metadata": {
    "collapsed": true
   },
   "outputs": [],
   "source": [
    "clean_data = data[[\"RM\",\"MEDV\"]].values"
   ]
  },
  {
   "cell_type": "code",
   "execution_count": 5,
   "metadata": {},
   "outputs": [
    {
     "data": {
      "text/plain": [
       "array([[  6.57500000e+00,   5.04000000e+05],\n",
       "       [  6.42100000e+00,   4.53600000e+05],\n",
       "       [  7.18500000e+00,   7.28700000e+05],\n",
       "       [  6.99800000e+00,   7.01400000e+05],\n",
       "       [  7.14700000e+00,   7.60200000e+05],\n",
       "       [  6.43000000e+00,   6.02700000e+05],\n",
       "       [  6.01200000e+00,   4.80900000e+05],\n",
       "       [  6.17200000e+00,   5.69100000e+05],\n",
       "       [  5.63100000e+00,   3.46500000e+05],\n",
       "       [  6.00400000e+00,   3.96900000e+05],\n",
       "       [  6.37700000e+00,   3.15000000e+05],\n",
       "       [  6.00900000e+00,   3.96900000e+05],\n",
       "       [  5.88900000e+00,   4.55700000e+05],\n",
       "       [  5.94900000e+00,   4.28400000e+05],\n",
       "       [  6.09600000e+00,   3.82200000e+05],\n",
       "       [  5.83400000e+00,   4.17900000e+05],\n",
       "       [  5.93500000e+00,   4.85100000e+05],\n",
       "       [  5.99000000e+00,   3.67500000e+05],\n",
       "       [  5.45600000e+00,   4.24200000e+05],\n",
       "       [  5.72700000e+00,   3.82200000e+05]])"
      ]
     },
     "execution_count": 5,
     "metadata": {},
     "output_type": "execute_result"
    }
   ],
   "source": [
    "clean_data[:20]"
   ]
  },
  {
   "cell_type": "code",
   "execution_count": 6,
   "metadata": {
    "scrolled": false
   },
   "outputs": [
    {
     "data": {
      "image/png": "[encoded data removed]",
      "text/plain": [
       "<matplotlib.figure.Figure at 0x115bd7a20>"
      ]
     },
     "metadata": {},
     "output_type": "display_data"
    }
   ],
   "source": [
    "import matplotlib.pyplot as plt\n",
    "%matplotlib inline\n",
    "plt.style.use('ggplot')\n",
    "\n",
    "# don't use this line as it's for pandas\n",
    "# plt.plot(\"scatter\", cd[:,0], clean_data[:1])\n",
    "\n",
    "plt.scatter(clean_data[:,0],clean_data[:,1])\n",
    "plt.show()"
   ]
  },
  {
   "cell_type": "markdown",
   "metadata": {},
   "source": [
    "Function to calculate error"
   ]
  },
  {
   "cell_type": "code",
   "execution_count": 21,
   "metadata": {},
   "outputs": [
    {
     "data": {
      "text/plain": [
       "233709014171.77914"
      ]
     },
     "execution_count": 21,
     "metadata": {},
     "output_type": "execute_result"
    }
   ],
   "source": [
    "def compute_errors(m, b, points):\n",
    "    total_error = 0\n",
    "    for point in points:\n",
    "        x = point[0]\n",
    "        y = point[1]\n",
    "        \n",
    "        total_error += (y - (m *x + b) ) ** 2\n",
    "        \n",
    "    return total_error / len(points)\n",
    "\n",
    "compute_errors(0,0,clean_data)"
   ]
  },
  {
   "cell_type": "code",
   "execution_count": 7,
   "metadata": {
    "collapsed": true
   },
   "outputs": [],
   "source": [
    "def compute_errors(m,b, points):\n",
    "    error = 0\n",
    "    for point in points:\n",
    "        x = point[0]\n",
    "        y = point[1]\n",
    "        \n",
    "        error += (y - (m*x + b))**2\n",
    "    \n",
    "    \n",
    "    return error / len(points)\n",
    "        "
   ]
  },
  {
   "cell_type": "code",
   "execution_count": 8,
   "metadata": {},
   "outputs": [
    {
     "data": {
      "text/plain": [
       "233709014171.77914"
      ]
     },
     "execution_count": 8,
     "metadata": {},
     "output_type": "execute_result"
    }
   ],
   "source": [
    "# to call the function \n",
    "\n",
    "\n",
    "compute_errors(0,0,clean_data)"
   ]
  },
  {
   "cell_type": "markdown",
   "metadata": {},
   "source": [
    "Code to do the calculations\n"
   ]
  },
  {
   "cell_type": "code",
   "execution_count": 9,
   "metadata": {
    "collapsed": true
   },
   "outputs": [],
   "source": [
    "#get the data \n",
    "def step_gradient(b_current, m_current, points, learningRate):\n",
    "    b_gradient = 0\n",
    "    m_gradient = 0\n",
    "    N = float(len(points))\n",
    "    \n",
    "    for i in range(0, len(points)):\n",
    "        x = points[i,0]\n",
    "        y = points[i,1]\n",
    "        b_gradient += -(2/N) * (y - ((m_current * x) + b_current))\n",
    "        m_gradient += -(2/N) * x * (y - ((m_current * x) + b_current))\n",
    "        \n",
    "    new_b = b_current - (learningRate * b_gradient)\n",
    "    new_m = m_current - (learningRate * m_gradient)\n",
    "    return [new_b, new_m]"
   ]
  },
  {
   "cell_type": "code",
   "execution_count": 11,
   "metadata": {},
   "outputs": [
    {
     "data": {
      "text/plain": [
       "[90.868588957055238, 581.85542233128797]"
      ]
     },
     "execution_count": 11,
     "metadata": {},
     "output_type": "execute_result"
    }
   ],
   "source": [
    "#how to use the function\n",
    "step_gradient(0,0,clean_data, 0.0001)"
   ]
  },
  {
   "cell_type": "code",
   "execution_count": 12,
   "metadata": {},
   "outputs": [
    {
     "name": "stdout",
     "output_type": "stream",
     "text": [
      "We are starting at  b =  0  m =  0 start error=  233709014172.0\n",
      "Ending at b =  -576402.84767  m =  165318.662865 error =  14099244123.3\n"
     ]
    }
   ],
   "source": [
    "points = clean_data\n",
    "\n",
    "learning_rate = 0.01\n",
    "initial_b = 0 # initial y-intercept guess\n",
    "initial_m = 0 # initial slope guess\n",
    "num_iterations = 10000\n",
    "\n",
    "b = initial_b\n",
    "m = initial_m\n",
    "first_error = compute_errors(m,b,points)\n",
    "print(\"We are starting at  b = \",initial_b,\" m = \", initial_m, \"start error= \", first_error )\n",
    "error_list = []\n",
    "for i in range(num_iterations):\n",
    "    \n",
    "    b,m = step_gradient(b,m, points, learning_rate)\n",
    "    error_list.append(compute_errors(m,b,points))\n",
    "    \n",
    "print(\"Ending at b = \", b, \" m = \", m, \"error = \", error_list[-1])\n",
    "    "
   ]
  },
  {
   "cell_type": "code",
   "execution_count": 13,
   "metadata": {},
   "outputs": [
    {
     "data": {
      "text/plain": [
       "[<matplotlib.lines.Line2D at 0x117fd3c88>]"
      ]
     },
     "execution_count": 13,
     "metadata": {},
     "output_type": "execute_result"
    },
    {
     "data": {
      "image/png": "[encoded data removed]",
      "text/plain": [
       "<matplotlib.figure.Figure at 0x117fcdf98>"
      ]
     },
     "metadata": {},
     "output_type": "display_data"
    }
   ],
   "source": [
    "plt.plot(error_list)\n"
   ]
  },
  {
   "cell_type": "code",
   "execution_count": 15,
   "metadata": {},
   "outputs": [
    {
     "name": "stdout",
     "output_type": "stream",
     "text": [
      "[1 2 3 4 5 6 7 8 9]\n",
      "[-411084.18480464 -245765.52193935  -80446.85907405   84871.80379124\n",
      "  250190.46665653  415509.12952182  580827.79238711  746146.4552524\n",
      "  911465.11811769]\n"
     ]
    }
   ],
   "source": [
    "x = np.arange(1,10)\n",
    "y = m*x + b\n",
    "print(x)\n",
    "print(y)"
   ]
  },
  {
   "cell_type": "code",
   "execution_count": 16,
   "metadata": {
    "scrolled": true
   },
   "outputs": [
    {
     "data": {
      "text/plain": [
       "[<matplotlib.lines.Line2D at 0x117f36438>]"
      ]
     },
     "execution_count": 16,
     "metadata": {},
     "output_type": "execute_result"
    },
    {
     "data": {
      "image/png": "[encoded data removed]",
      "text/plain": [
       "<matplotlib.figure.Figure at 0x117f36eb8>"
      ]
     },
     "metadata": {},
     "output_type": "display_data"
    }
   ],
   "source": [
    "plt.scatter(clean_data[:,0],clean_data[:,1])\n",
    "\n",
    "\n",
    "plt.plot(x,y,c=\"g\")"
   ]
  },
  {
   "cell_type": "markdown",
   "metadata": {
    "collapsed": true
   },
   "source": [
    "## How good is your model?\n"
   ]
  },
  {
   "cell_type": "code",
   "execution_count": 43,
   "metadata": {},
   "outputs": [
    {
     "name": "stdout",
     "output_type": "stream",
     "text": [
      "(342,)\n",
      "(147,)\n",
      "(342,)\n",
      "(147,)\n"
     ]
    }
   ],
   "source": [
    "from sklearn.model_selection import train_test_split\n",
    "X_train, X_test, y_train, y_test = train_test_split(\n",
    "    clean_data[:,0],clean_data[:,1],test_size=0.3,\n",
    "    random_state = 24\n",
    ")\n",
    "print(X_train.shape)\n",
    "print(X_test.shape)\n",
    "print(y_train.shape)\n",
    "print(y_test.shape)"
   ]
  },
  {
   "cell_type": "code",
   "execution_count": 44,
   "metadata": {
    "scrolled": false
   },
   "outputs": [
    {
     "name": "stdout",
     "output_type": "stream",
     "text": [
      "We are starting at  b =  0  m =  0 start error=  235702417632.0\n",
      "Ending at b =  -107912.069907  m =  91318.3996483 error =  17168520262.3\n"
     ]
    }
   ],
   "source": [
    "#personal trainer for free\n",
    "points = np.zeros((X_train.shape[0],2))\n",
    "points[:,0] = X_train\n",
    "points[:,1] = y_train\n",
    "\n",
    "learning_rate = 0.001\n",
    "initial_b = 0 # initial y-intercept guess\n",
    "initial_m = 0 # initial slope guess\n",
    "num_iterations = 10000\n",
    "\n",
    "b = initial_b\n",
    "m = initial_m\n",
    "first_error = compute_errors(m,b,points)\n",
    "print(\"We are starting at  b = \",initial_b,\" m = \", initial_m, \"start error= \", first_error )\n",
    "error_list = []\n",
    "for i in range(num_iterations):\n",
    "    \n",
    "    b,m = step_gradient(b,m, points, learning_rate)\n",
    "    error_list.append(compute_errors(m,b,points))\n",
    "    \n",
    "print(\"Ending at b = \", b, \" m = \", m, \"error = \", error_list[-1])\n",
    "    "
   ]
  },
  {
   "cell_type": "code",
   "execution_count": 45,
   "metadata": {
    "scrolled": false
   },
   "outputs": [
    {
     "name": "stdout",
     "output_type": "stream",
     "text": [
      "[506386.80452699674, 470589.9918648749, 450956.53594049689, 456892.23191763432, 269963.46783762582, 420182.23525902984, 446573.25275737984, 474334.04625045398, 461001.55990180658, 489766.85579101153, 496433.09896533523, 413424.67368505785, 531134.09083167766, 527390.03644609882, 478078.10063603305, 445386.11356195243, 479265.23983146047, 481822.15502161201, 450408.62554260722, 513053.04770132032, 486844.66700226691, 492506.40778045967, 491410.58698468044, 435432.40800029092, 452508.9487345175, 508487.12771890691, 478899.9662328675, 484744.34381035675, 476890.96144060552, 479813.15022935014, 441094.14877848368, 569670.45548324764, 531955.95642851223, 445842.70556019369, 434153.9504052152, 437441.4127925529, 520267.20127353369, 496524.41736498353, 304755.77810361667, 439085.14398622181, 417990.59366747137, 397626.59054590727, 415068.40487872681, 426300.56803546398, 501546.92934563832, 341922.36676046258, 452965.54073275876, 609211.32253094856, 426391.88643511228, 474334.04625045398, 593961.14978968748, 474699.31984904705, 435615.04479958751, 459357.82870813768, 403379.64972374821, 506478.12292664492, 434701.86080310476, 476343.05104271584, 478078.10063603305, 385481.24339268723, 348679.92833443452, 516066.55488971324, 479904.46862899844, 478078.10063603305, 386485.74578881823, 441824.69597566983, 498624.74055689381, 452782.90393346216, 426665.84163405705, 526111.57885102287, 362834.28027991636, 415433.67847731983, 402923.05772550678, 606197.81534255564, 517984.24128232693, 521910.9324672026, 380550.04981168074, 455248.50072396564, 578802.2954480747, 413242.03688576142, 387672.88498424581, 549854.36275957304, 269963.46783762582, 416894.77287169226, 529490.35963800899, 505290.98373121739, 515427.3260921755, 456070.36632079998, 446299.29755843506, 413789.94728365092, 479630.51343005366, 440546.23838059412, 437806.68639114598, 467576.48467648198, 459083.87350919278, 404658.10731882392, 475521.18544588139, 422008.60325199523, 426665.84163405705, 428309.57282772596, 465476.1614845717, 489310.26379277016, 433332.08480838075, 514514.14209569275, 512505.13730343076, 587020.951416419, 453148.17753205536, 346214.33154393121, 400274.82413570705, 519810.60927529231, 413059.40008646483, 459997.05750567553, 438445.91518868384, 443742.38236828352, 449860.71514471754, 434153.9504052152, 385115.96979409421, 474881.95664834365, 428492.20962702244, 548210.63156590424, 403927.56012163789, 428218.25442807766, 508395.80931925861, 499994.51655161782, 418264.54886641627, 529672.99643730547, 349775.74913021369, 436893.50239466323, 559899.38672088273, 445934.02395984199, 471503.17586135754, 544831.85077891825, 533508.36922253284, 495154.64137025952, 420456.19045797474, 438445.91518868384, 380093.45781343931, 434062.63200556691, 424839.47364109155, 476708.32464130892, 442463.92477320769, 517801.60448303045, 450499.94394225552, 536887.15000951872, 479356.55823110876, 540813.84119439439, 478808.64783321921]\n"
     ]
    }
   ],
   "source": [
    "#predict \n",
    "points_test = np.zeros((X_test.shape[0],2))\n",
    "points_test[:,0] = X_test\n",
    "points_test[:,1] = y_test\n",
    "\n",
    "predictions = []\n",
    "\n",
    "for point in points_test:\n",
    "    y_predicted = m * point[0] + b\n",
    "    predictions.append(y_predicted)\n",
    "\n",
    "print(predictions)\n",
    "    \n"
   ]
  },
  {
   "cell_type": "markdown",
   "metadata": {},
   "source": [
    "### How to score \n",
    "\n",
    "predictions - y_test"
   ]
  },
  {
   "cell_type": "code",
   "execution_count": 46,
   "metadata": {
    "scrolled": true
   },
   "outputs": [
    {
     "data": {
      "text/plain": [
       "array([ -7.11131955e+04,   9.04899919e+04,   1.83565359e+04,\n",
       "         1.50292232e+05,  -1.98365322e+04,  -5.23177647e+04,\n",
       "         1.42073253e+05,   1.02634046e+05,   3.89015599e+04,\n",
       "         2.60866856e+05,  -1.35666901e+05,   6.02467369e+03,\n",
       "        -1.70265909e+05,  -9.42099636e+04,   2.05078101e+05,\n",
       "         1.27861136e+04,  -1.23434760e+05,   7.86221550e+04,\n",
       "         4.93086255e+04,  -1.40046952e+05,   6.26446670e+04,\n",
       "        -1.14935922e+04,  -1.91089413e+05,   1.58232408e+05,\n",
       "         4.72089487e+04,   1.07871277e+04,  -2.09000338e+04,\n",
       "         3.84434381e+03,   2.22790961e+05,   1.79513150e+05,\n",
       "        -3.98058512e+04,  -1.31729545e+05,   3.63559564e+04,\n",
       "        -6.65572944e+04,   1.50653950e+05,   1.11414128e+04,\n",
       "        -5.72327987e+04,  -5.37558264e+03,   1.57755778e+05,\n",
       "         7.15851440e+04,   9.05936675e+01,   1.60326591e+05,\n",
       "         3.28684049e+04,  -1.46994320e+04,   6.05469293e+04,\n",
       "         3.53223668e+04,   1.33765541e+05,  -4.09288677e+05,\n",
       "         1.68918864e+04,  -1.07659537e+04,  -3.86738850e+05,\n",
       "         2.75199320e+05,   3.66150448e+04,   8.55578287e+04,\n",
       "         1.11479650e+05,   1.93578123e+05,   6.93018608e+04,\n",
       "        -4.86569490e+04,  -3.01218994e+04,   1.04081243e+05,\n",
       "         1.93279928e+05,   2.19966555e+05,  -7.29553137e+03,\n",
       "         3.47810064e+03,   2.39485746e+05,  -4.53753040e+04,\n",
       "        -1.04075259e+05,   1.59829039e+04,  -5.00341584e+04,\n",
       "        -3.41188421e+05,   2.05342803e+04,   1.01336785e+04,\n",
       "         3.75230577e+04,  -3.47202185e+05,  -1.54015759e+05,\n",
       "         5.99109325e+04,   2.06250050e+05,   3.31485007e+04,\n",
       "        -3.26297705e+05,  -4.45579631e+04,   9.78728850e+04,\n",
       "        -1.59945637e+05,   2.00634678e+04,   2.38394773e+05,\n",
       "        -9.63096404e+04,   2.64909837e+04,  -1.79672674e+05,\n",
       "         1.08703663e+04,   1.09929756e+03,   9.66899473e+04,\n",
       "         3.28430513e+05,   1.42346238e+05,   1.71106686e+05,\n",
       "        -5.32235153e+04,   9.68387351e+03,   7.49581073e+04,\n",
       "        -2.63788146e+04,   6.92086033e+04,   1.99865842e+05,\n",
       "        -9.04271723e+01,   4.54761615e+04,   1.42810264e+05,\n",
       "         2.17320848e+04,  -1.49085858e+05,   5.05051373e+04,\n",
       "        -3.01279049e+05,   3.73481775e+04,   8.11433154e+03,\n",
       "         1.54574824e+05,  -1.35389391e+05,   7.28594001e+04,\n",
       "         7.35970575e+04,   1.63459152e+04,   1.53423824e+04,\n",
       "        -6.04392849e+04,   1.55395041e+03,   8.27159698e+04,\n",
       "        -1.02180434e+04,   2.19220963e+03,  -1.84689368e+05,\n",
       "         1.54275601e+04,  -4.38174557e+03,   2.26995809e+05,\n",
       "         1.38794517e+05,  -3.95354511e+04,  -1.65427004e+05,\n",
       "         2.84757491e+04,   1.00893502e+05,   2.44899387e+05,\n",
       "        -3.28659760e+04,  -9.96824139e+02,  -2.38468149e+05,\n",
       "        -1.99391631e+05,  -1.15945359e+05,   4.56190458e+02,\n",
       "         1.52845915e+05,  -3.99065422e+04,  -5.10373680e+04,\n",
       "         6.93947364e+03,   8.40832464e+03,   8.96639248e+04,\n",
       "        -5.96983955e+04,   1.99999439e+04,   1.18871500e+04,\n",
       "        -3.72434418e+04,  -1.52186159e+05,   1.40708648e+05])"
      ]
     },
     "execution_count": 46,
     "metadata": {},
     "output_type": "execute_result"
    }
   ],
   "source": [
    "predictions - y_test"
   ]
  },
  {
   "cell_type": "code",
   "execution_count": 47,
   "metadata": {},
   "outputs": [
    {
     "name": "stdout",
     "output_type": "stream",
     "text": [
      "0.522173882037\n",
      "[[ 174195.44363561]]\n",
      "[-630823.01221526]\n",
      "['__abstractmethods__', '__class__', '__delattr__', '__dict__', '__dir__', '__doc__', '__eq__', '__format__', '__ge__', '__getattribute__', '__getstate__', '__gt__', '__hash__', '__init__', '__le__', '__lt__', '__module__', '__ne__', '__new__', '__reduce__', '__reduce_ex__', '__repr__', '__setattr__', '__setstate__', '__sizeof__', '__str__', '__subclasshook__', '__weakref__', '_abc_cache', '_abc_negative_cache', '_abc_negative_cache_version', '_abc_registry', '_decision_function', '_estimator_type', '_get_param_names', '_preprocess_data', '_residues', '_set_intercept', 'coef_', 'copy_X', 'fit', 'fit_intercept', 'get_params', 'intercept_', 'n_jobs', 'normalize', 'predict', 'rank_', 'score', 'set_params', 'singular_']\n"
     ]
    }
   ],
   "source": [
    "from sklearn.linear_model import LinearRegression\n",
    "\n",
    "\n",
    "lr = LinearRegression()\n",
    "lr.fit(X_train.reshape(-1,1), y_train.reshape(-1,1))\n",
    "lr.predict(X_test.reshape(-1,1))\n",
    "r2 = lr.score(X_test.reshape(-1,1), y_test.reshape(-1,1))\n",
    "print(r2)\n",
    "\n",
    "print(lr.coef_)\n",
    "print(lr.intercept_)\n",
    "print(dir(lr))\n",
    "# price = ax + by + cz + d"
   ]
  },
  {
   "cell_type": "code",
   "execution_count": 48,
   "metadata": {},
   "outputs": [
    {
     "name": "stdout",
     "output_type": "stream",
     "text": [
      "0.631549342538\n",
      "[ 80542.70502707 -12074.89153223 -19153.5225713 ]\n",
      "465488.93762\n"
     ]
    }
   ],
   "source": [
    "X = data[[\"RM\",\"LSTAT\",\"PTRATIO\"]].values\n",
    "y = data[\"MEDV\"].values\n",
    "\n",
    "X_train, X_test, y_train, y_test = train_test_split(X,y, test_size=0.3, random_state=12)  \n",
    "\n",
    "lr = LinearRegression()\n",
    "lr.fit(X_train,y_train)\n",
    "lr.predict(X_test)\n",
    "print(lr.score(X_test,y_test))\n",
    "print(lr.coef_)\n",
    "print(lr.intercept_)"
   ]
  },
  {
   "cell_type": "markdown",
   "metadata": {},
   "source": [
    "**References**:\n",
    "1. Code and Graphs from [Atomic Object](https://spin.atomicobject.com/2014/06/24/gradient-descent-linear-regression/)\n",
    "\n",
    "2. Boston Housing Data from [UCI](https://archive.ics.uci.edu/ml/machine-learning-databases/housing/)\n",
    "\n"
   ]
  },
  {
   "cell_type": "markdown",
   "metadata": {
    "collapsed": true
   },
   "source": [
    "y = a1x1 + a2x2 + a3x3 + b\n",
    "\n",
    "Books\n",
    "Elements of Statistical Learning. - Hastie and Tribshirani\n",
    "\n",
    " -- Pattern Recognition & Machine Learning --        - Bishop\n",
    " \n",
    " -- Pattern Recognition -- Red Color  --  Duda \n",
    "\n",
    "\n",
    "Tomorrow's Task \n",
    "\n",
    "Clearning the data \n",
    "Check Numpy and pandas assignment\n",
    "\n",
    "\n",
    "\n"
   ]
  },
  {
   "cell_type": "code",
   "execution_count": null,
   "metadata": {
    "collapsed": true
   },
   "outputs": [],
   "source": []
  }
 ],
 "metadata": {
  "kernelspec": {
   "display_name": "Python [conda env:carnd-term1]",
   "language": "python",
   "name": "conda-env-carnd-term1-py"
  },
  "language_info": {
   "codemirror_mode": {
    "name": "ipython",
    "version": 3
   },
   "file_extension": ".py",
   "mimetype": "text/x-python",
   "name": "python",
   "nbconvert_exporter": "python",
   "pygments_lexer": "ipython3",
   "version": "3.5.2"
  }
 },
 "nbformat": 4,
 "nbformat_minor": 2
}
