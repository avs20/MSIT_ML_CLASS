{
 "cells": [
  {
   "cell_type": "markdown",
   "metadata": {},
   "source": [
    "## Support Vector Machines"
   ]
  },
  {
   "cell_type": "markdown",
   "metadata": {},
   "source": [
    "**Q1** Which is a good seperating line?\n",
    "\n",
    "![](../images/svm1.png)"
   ]
  },
  {
   "cell_type": "markdown",
   "metadata": {},
   "source": [
    "**Q2** Which is a good seperating line?\n",
    "\n",
    "![](../images/svm2.png)"
   ]
  },
  {
   "cell_type": "markdown",
   "metadata": {},
   "source": [
    "What's different in the solution for the Q2. \n",
    "\n",
    "\n",
    "The margin between the line and the nearest points is maximum.  We are looking for maximum margin we can get from the nearest points. \n",
    "\n",
    "So need to find 2 things?\n",
    "\n",
    "1. Which will be nearest points?\n",
    "2. The line with maximum margin from the points\n"
   ]
  },
  {
   "cell_type": "markdown",
   "metadata": {},
   "source": [
    "### Support Vectors \n",
    "\n",
    "\n",
    "*  Support vectors are the data points that lie closest to the decision surface (or hyperplane)\n",
    "*  They are the data points most difficult to classify\n",
    "*  They have direct bearing on the optimum location of the decision surface"
   ]
  },
  {
   "cell_type": "markdown",
   "metadata": {},
   "source": [
    "### Maximal-Margin Classifier\n",
    "\n",
    "Try to get the maximum margin between the closest points. \n",
    "This is done using simple Linear Algebra of inner product of the vectors "
   ]
  },
  {
   "cell_type": "markdown",
   "metadata": {},
   "source": [
    "```\n",
    "B0 + (B1 * X1) + (B2 * X2) = 0\n",
    "```\n",
    "\n",
    "Where the coefficients (B1 and B2) that determine the slope of the line and the intercept (B0) are found by the learning algorithm, and X1 and X2 are the two input variables.\n",
    "\n",
    "You can make classifications using this line. By plugging in input values into the line equation, you can calculate whether a new point is above or below the line.\n",
    "\n",
    "* Above the line, the equation returns a value greater than 0 and the point belongs to the first class (class 0).\n",
    "* Below the line, the equation returns a value less than 0 and the point belongs to the second class (class 1).\n",
    "* A value close to the line returns a value close to zero and the point may be difficult to classify.\n",
    "* If the magnitude of the value is large, the model may have more confidence in the prediction.\n",
    "\n",
    "The distance between the line and the closest data points is referred to as the margin. The best or optimal line that can separate the two classes is the line that as the largest margin. This is called the Maximal-Margin hyperplane.\n",
    "\n",
    "The margin is calculated as the perpendicular distance from the line to only the closest points. Only these points are relevant in defining the line and in the construction of the classifier. These points are called the support vectors. They support or define the hyperplane."
   ]
  },
  {
   "cell_type": "code",
   "execution_count": 5,
   "metadata": {},
   "outputs": [
    {
     "data": {
      "text/plain": [
       "0.97777777777777775"
      ]
     },
     "execution_count": 5,
     "metadata": {},
     "output_type": "execute_result"
    }
   ],
   "source": [
    "## Let's see some code \n",
    "\n",
    "from sklearn import datasets \n",
    "from sklearn.model_selection import train_test_split\n",
    "from sklearn import svm\n",
    "\n",
    "iris = datasets.load_iris()\n",
    "X_train, X_test, y_train, y_test = train_test_split(iris.data,\n",
    "                                    iris.target, test_size=0.3,random_state=24)\n",
    "\n",
    "clf = svm.SVC()\n",
    "\n",
    "clf.fit(X_train,y_train)\n",
    "preds = clf.predict(X_test)\n",
    "clf.score(X_test, y_test)\n"
   ]
  },
  {
   "cell_type": "code",
   "execution_count": 6,
   "metadata": {},
   "outputs": [
    {
     "data": {
      "text/plain": [
       "44"
      ]
     },
     "execution_count": 6,
     "metadata": {},
     "output_type": "execute_result"
    }
   ],
   "source": [
    "(preds == y_test).sum()"
   ]
  },
  {
   "cell_type": "code",
   "execution_count": 27,
   "metadata": {
    "scrolled": true
   },
   "outputs": [
    {
     "data": {
      "image/png": "[encoded data removed]",
      "text/plain": [
       "<matplotlib.figure.Figure at 0x10ebb20f0>"
      ]
     },
     "metadata": {},
     "output_type": "display_data"
    }
   ],
   "source": [
    "## Plotting the decision boundary\n",
    "from matplotlib.colors import ListedColormap\n",
    "import numpy as np\n",
    "import matplotlib.pyplot as plt\n",
    "%matplotlib inline\n",
    "\n",
    "def plot_decision_regions(X, y, classifier, resolution=0.02):\n",
    "\n",
    "    # setup marker generator and color map\n",
    "    markers = ('s', 'x', 'o', '^', 'v')\n",
    "    colors = ('red', 'blue', 'lightgreen', 'gray', 'cyan')\n",
    "    cmap = ListedColormap(colors[:len(np.unique(y))])\n",
    "\n",
    "    # plot the decision surface\n",
    "    x1_min, x1_max = X[:, 0].min() - 1, X[:, 0].max() + 1\n",
    "    x2_min, x2_max = X[:, 1].min() - 1, X[:, 1].max() + 1\n",
    "    xx1, xx2 = np.meshgrid(np.arange(x1_min, x1_max, resolution),\n",
    "                           np.arange(x2_min, x2_max, resolution))\n",
    "    Z = classifier.predict(np.array([xx1.ravel(), xx2.ravel()]).T)\n",
    "    Z = Z.reshape(xx1.shape)\n",
    "    plt.contourf(xx1, xx2, Z, alpha=0.3, cmap=cmap)\n",
    "    plt.xlim(xx1.min(), xx1.max())\n",
    "    plt.ylim(xx2.min(), xx2.max())\n",
    "\n",
    "    # plot class samples\n",
    "    for idx, cl in enumerate(np.unique(y)):\n",
    "        plt.scatter(x=X[y == cl, 0],\n",
    "                    y=X[y == cl, 1],\n",
    "                    alpha=0.8,\n",
    "                    c=colors[idx],\n",
    "                    marker=markers[idx],\n",
    "                    label=cl,\n",
    "                    edgecolor='black')\n",
    "\n",
    "\n",
    "iris = datasets.load_iris()\n",
    "X_train, X_test, y_train, y_test = train_test_split(iris.data[:,1:3],\n",
    "                                    iris.target, test_size=0.3,random_state=24)\n",
    "\n",
    "clf = svm.LinearSVC(random_state=42)\n",
    "\n",
    "clf.fit(X_train,y_train)\n",
    "preds = clf.predict(X_test)\n",
    "clf.score(X_test, y_test)        \n",
    "        \n",
    "plot_decision_regions(X_test,y_test, clf)\n"
   ]
  },
  {
   "cell_type": "markdown",
   "metadata": {},
   "source": [
    "### Kernel Trick\n",
    "\n",
    "![](../images/svm_kernel.png)\n",
    "\n",
    "How to do it ?\n",
    "\n",
    "####  Data Transformation\n",
    "\n",
    "* Create a new feature which will make things easier for us. \n",
    "\n",
    "* z = x^2 + y^2\n",
    "\n",
    "Let's see it again \n",
    "\n",
    "~![](../images/svm_linear.png)\n",
    "\n",
    "\n",
    "So do we need to do it and create our own transformation by looking at data?\n",
    "\n",
    "#Answer \n",
    "\n",
    "#### Kernel Trick \n",
    "\n",
    "Use different kernels which can do the data transformation for us and work great. \n",
    "\n",
    "#### Types of Kernel\n",
    "\n",
    "1. **Linear** : \n",
    "```\n",
    "K(x, xi) = sum(x * xi)\n",
    "```\n",
    "\n",
    "2. **Polynomial** : \n",
    "```\n",
    "K(x,xi) = 1 + sum(x * xi)^d\n",
    "```\n",
    "\n",
    "3. **Radial** : \n",
    "```\n",
    "K(x,xi) = exp(-gamma * sum((x – xi)^2))\n",
    "```"
   ]
  },
  {
   "cell_type": "code",
   "execution_count": null,
   "metadata": {
    "collapsed": true
   },
   "outputs": [],
   "source": []
  },
  {
   "cell_type": "code",
   "execution_count": 44,
   "metadata": {
    "scrolled": false
   },
   "outputs": [
    {
     "name": "stdout",
     "output_type": "stream",
     "text": [
      "0.955555555556\n"
     ]
    },
    {
     "data": {
      "image/png": "[encoded data removed]",
      "text/plain": [
       "<matplotlib.figure.Figure at 0x10e9d9518>"
      ]
     },
     "metadata": {},
     "output_type": "display_data"
    }
   ],
   "source": [
    "## Let's code some \n",
    "clf = svm.SVC(kernel=\"linear\", random_state=24)\n",
    "clf.fit(X_train,y_train)\n",
    "preds = clf.predict(X_test)\n",
    "print(clf.score(X_test, y_test)        )\n",
    "        \n",
    "plot_decision_regions(X_test,y_test, clf)\n",
    "\n"
   ]
  },
  {
   "cell_type": "code",
   "execution_count": 31,
   "metadata": {
    "scrolled": true
   },
   "outputs": [
    {
     "name": "stdout",
     "output_type": "stream",
     "text": [
      "0.955555555556\n"
     ]
    },
    {
     "data": {
      "image/png": "[encoded data removed]",
      "text/plain": [
       "<matplotlib.figure.Figure at 0x105b26630>"
      ]
     },
     "metadata": {},
     "output_type": "display_data"
    }
   ],
   "source": [
    "## Let's code some \n",
    "clf = svm.SVC(kernel=\"poly\", random_state=24)\n",
    "clf.fit(X_train,y_train)\n",
    "preds = clf.predict(X_test)\n",
    "print(clf.score(X_test, y_test)        )\n",
    "        \n",
    "plot_decision_regions(X_test,y_test, clf)\n",
    "\n",
    "\n"
   ]
  },
  {
   "cell_type": "code",
   "execution_count": 56,
   "metadata": {
    "scrolled": true
   },
   "outputs": [
    {
     "name": "stdout",
     "output_type": "stream",
     "text": [
      "0.955555555556\n"
     ]
    },
    {
     "data": {
      "image/png": "[encoded data removed]",
      "text/plain": [
       "<matplotlib.figure.Figure at 0x1145a5978>"
      ]
     },
     "metadata": {},
     "output_type": "display_data"
    }
   ],
   "source": [
    "## Let's code some \n",
    "clf = svm.SVC(kernel=\"rbf\", random_state=24)\n",
    "clf.fit(X_train,y_train)\n",
    "preds = clf.predict(X_test)\n",
    "print(clf.score(X_test, y_test)        )\n",
    "        \n",
    "plot_decision_regions(X_test,y_test, clf)\n",
    "\n",
    "plt.scatter(clf.support_vectors_[:,0],clf.support_vectors_[:,1])\n",
    "\n",
    "plt.show()"
   ]
  },
  {
   "cell_type": "code",
   "execution_count": 57,
   "metadata": {
    "collapsed": true
   },
   "outputs": [],
   "source": [
    "#why line is not showing the vectors?"
   ]
  },
  {
   "cell_type": "code",
   "execution_count": 55,
   "metadata": {
    "scrolled": true
   },
   "outputs": [
    {
     "data": {
      "image/png": "[encoded data removed]",
      "text/plain": [
       "<matplotlib.figure.Figure at 0x10fe16048>"
      ]
     },
     "metadata": {},
     "output_type": "display_data"
    }
   ],
   "source": [
    "## how to get the support vectors\n",
    "plt.scatter(clf.support_vectors_[:,0],clf.support_vectors_[:,1])\n",
    "clf.support_vectors_\n",
    "plt.show()"
   ]
  },
  {
   "cell_type": "code",
   "execution_count": null,
   "metadata": {
    "collapsed": true
   },
   "outputs": [],
   "source": []
  },
  {
   "cell_type": "markdown",
   "metadata": {},
   "source": [
    "### Parameter tuning\n",
    "\n",
    "Basically there are 2 parameters which we tune\n",
    "\n",
    "1. **C** : C is the parameter for the soft margin cost function, which controls the influence of each individual support vector; this process involves trading error penalty for stability\n",
    "\n",
    "If C is large missclassification is penalized. If low we can live with that. \n",
    "\n",
    "2. **GAMMA** : Kernel coefficient for ‘rbf’, ‘poly’ and ‘sigmoid’. Higher the value of gamma, will try to exact fit the as per training data set i.e. generalization error and cause over-fitting problem.\n",
    "\n",
    "The gamma parameter defines how far the influence of a single training example reaches, with low values meaning ‘far’ and high values meaning ‘close’\n",
    "\n",
    "**If gamma is low the boundary will look smoother. **\n",
    "\n",
    "**If gamma is high the boundary will look curvier.**"
   ]
  },
  {
   "cell_type": "code",
   "execution_count": 58,
   "metadata": {},
   "outputs": [
    {
     "name": "stdout",
     "output_type": "stream",
     "text": [
      "0.955555555556\n"
     ]
    },
    {
     "data": {
      "image/png": "[encoded data removed]",
      "text/plain": [
       "<matplotlib.figure.Figure at 0x113311e48>"
      ]
     },
     "metadata": {},
     "output_type": "display_data"
    }
   ],
   "source": [
    "#Let's play again \n",
    "## Let's code some \n",
    "clf = svm.SVC(kernel=\"rbf\",C=1000, random_state=24)\n",
    "clf.fit(X_train,y_train)\n",
    "preds = clf.predict(X_test)\n",
    "print(clf.score(X_test, y_test)        )\n",
    "        \n",
    "plot_decision_regions(X_test,y_test, clf)\n",
    "\n"
   ]
  },
  {
   "cell_type": "code",
   "execution_count": 59,
   "metadata": {},
   "outputs": [
    {
     "name": "stdout",
     "output_type": "stream",
     "text": [
      "0.933333333333\n"
     ]
    },
    {
     "data": {
      "image/png": "[encoded data removed]",
      "text/plain": [
       "<matplotlib.figure.Figure at 0x10fdf51d0>"
      ]
     },
     "metadata": {},
     "output_type": "display_data"
    }
   ],
   "source": [
    "#Let's play again \n",
    "## Let's code some \n",
    "clf = svm.SVC(kernel=\"rbf\",C=1e6, random_state=24)\n",
    "clf.fit(X_train,y_train)\n",
    "preds = clf.predict(X_test)\n",
    "print(clf.score(X_test, y_test)        )\n",
    "        \n",
    "plot_decision_regions(X_test,y_test, clf)\n",
    "\n",
    "\n"
   ]
  },
  {
   "cell_type": "code",
   "execution_count": 60,
   "metadata": {
    "scrolled": true
   },
   "outputs": [
    {
     "name": "stdout",
     "output_type": "stream",
     "text": [
      "0.466666666667\n"
     ]
    },
    {
     "data": {
      "image/png": "[encoded data removed]",
      "text/plain": [
       "<matplotlib.figure.Figure at 0x11352e668>"
      ]
     },
     "metadata": {},
     "output_type": "display_data"
    }
   ],
   "source": [
    "clf = svm.SVC(kernel=\"rbf\",gamma = 1e3, random_state=24)\n",
    "clf.fit(X_train,y_train)\n",
    "preds = clf.predict(X_test)\n",
    "print(clf.score(X_test, y_test)        )\n",
    "        \n",
    "plot_decision_regions(X_test,y_test, clf)\n",
    "\n"
   ]
  },
  {
   "cell_type": "code",
   "execution_count": 61,
   "metadata": {},
   "outputs": [
    {
     "name": "stdout",
     "output_type": "stream",
     "text": [
      "0.955555555556\n"
     ]
    },
    {
     "data": {
      "image/png": "[encoded data removed]",
      "text/plain": [
       "<matplotlib.figure.Figure at 0x10fdf5f28>"
      ]
     },
     "metadata": {},
     "output_type": "display_data"
    }
   ],
   "source": [
    "clf = svm.SVC(kernel=\"rbf\",gamma = 1, random_state=24)\n",
    "clf.fit(X_train,y_train)\n",
    "preds = clf.predict(X_test)\n",
    "print(clf.score(X_test, y_test)        )\n",
    "        \n",
    "plot_decision_regions(X_test,y_test, clf)\n",
    "\n",
    "\n"
   ]
  },
  {
   "cell_type": "code",
   "execution_count": null,
   "metadata": {
    "collapsed": true
   },
   "outputs": [],
   "source": []
  },
  {
   "cell_type": "code",
   "execution_count": 36,
   "metadata": {
    "scrolled": true
   },
   "outputs": [
    {
     "name": "stdout",
     "output_type": "stream",
     "text": [
      "0.933333333333\n"
     ]
    },
    {
     "data": {
      "image/png": "[encoded data removed]",
      "text/plain": [
       "<matplotlib.figure.Figure at 0x10eb4e940>"
      ]
     },
     "metadata": {},
     "output_type": "display_data"
    }
   ],
   "source": [
    "#Let's play again \n",
    "## Let's code some \n",
    "clf = svm.SVC(kernel=\"rbf\",C=1e9, random_state=24)\n",
    "clf.fit(X_train,y_train)\n",
    "preds = clf.predict(X_test)\n",
    "print(clf.score(X_test, y_test)        )\n",
    "        \n",
    "plot_decision_regions(X_test,y_test, clf)\n",
    "\n",
    "\n"
   ]
  },
  {
   "cell_type": "code",
   "execution_count": 37,
   "metadata": {
    "scrolled": true
   },
   "outputs": [
    {
     "name": "stdout",
     "output_type": "stream",
     "text": [
      "0.977777777778\n"
     ]
    },
    {
     "data": {
      "image/png": "[encoded data removed]",
      "text/plain": [
       "<matplotlib.figure.Figure at 0x10fe16278>"
      ]
     },
     "metadata": {},
     "output_type": "display_data"
    }
   ],
   "source": [
    "#Let's play again \n",
    "## Let's code some \n",
    "clf = svm.SVC(kernel=\"rbf\",gamma=0.1, random_state=24)\n",
    "clf.fit(X_train,y_train)\n",
    "preds = clf.predict(X_test)\n",
    "print(clf.score(X_test, y_test)        )\n",
    "        \n",
    "plot_decision_regions(X_test,y_test, clf)\n",
    "\n",
    "\n"
   ]
  },
  {
   "cell_type": "code",
   "execution_count": 38,
   "metadata": {},
   "outputs": [
    {
     "name": "stdout",
     "output_type": "stream",
     "text": [
      "0.911111111111\n"
     ]
    },
    {
     "data": {
      "image/png": "[encoded data removed]",
      "text/plain": [
       "<matplotlib.figure.Figure at 0x105b262b0>"
      ]
     },
     "metadata": {},
     "output_type": "display_data"
    }
   ],
   "source": [
    "#Let's play again \n",
    "## Let's code some \n",
    "clf = svm.SVC(kernel=\"rbf\",gamma=1e-2, random_state=24)\n",
    "clf.fit(X_train,y_train)\n",
    "preds = clf.predict(X_test)\n",
    "print(clf.score(X_test, y_test)        )\n",
    "        \n",
    "plot_decision_regions(X_test,y_test, clf)\n",
    "\n",
    "\n"
   ]
  },
  {
   "cell_type": "code",
   "execution_count": 43,
   "metadata": {
    "scrolled": true
   },
   "outputs": [
    {
     "name": "stdout",
     "output_type": "stream",
     "text": [
      "0.977777777778\n"
     ]
    },
    {
     "data": {
      "image/png": "[encoded data removed]",
      "text/plain": [
       "<matplotlib.figure.Figure at 0x10e7e09e8>"
      ]
     },
     "metadata": {},
     "output_type": "display_data"
    }
   ],
   "source": [
    "#Let's play again \n",
    "## Let's code some \n",
    "clf = svm.SVC(kernel=\"rbf\",gamma=0.05, random_state=24)\n",
    "clf.fit(X_train,y_train)\n",
    "preds = clf.predict(X_test)\n",
    "print(clf.score(X_test, y_test)        )\n",
    "        \n",
    "plot_decision_regions(X_test,y_test, clf)\n",
    "\n",
    "\n",
    "\n"
   ]
  },
  {
   "cell_type": "code",
   "execution_count": 62,
   "metadata": {
    "scrolled": true
   },
   "outputs": [
    {
     "name": "stdout",
     "output_type": "stream",
     "text": [
      "0.977777777778\n"
     ]
    },
    {
     "data": {
      "image/png": "[encoded data removed]",
      "text/plain": [
       "<matplotlib.figure.Figure at 0x1147d0cc0>"
      ]
     },
     "metadata": {},
     "output_type": "display_data"
    }
   ],
   "source": [
    "#Let's play again \n",
    "## Let's code some \n",
    "clf = svm.SVC(kernel=\"rbf\",gamma=0.1, random_state=24)\n",
    "clf.fit(X_train,y_train)\n",
    "preds = clf.predict(X_test)\n",
    "print(clf.score(X_test, y_test)        )\n",
    "        \n",
    "plot_decision_regions(X_test,y_test, clf)\n",
    "\n",
    "\n",
    "\n",
    "\n"
   ]
  },
  {
   "cell_type": "markdown",
   "metadata": {},
   "source": [
    "## Assignment \n",
    "\n",
    "1. What is the difference between LinearSVC and SVC(kernel=\"linear\")?\n",
    "2. Work on kidney dataset and get the best accuracy using SVM by tuning \n",
    "   **C**, **gamma** and **kernel**\n",
    "3. Read the references below in completion"
   ]
  },
  {
   "cell_type": "markdown",
   "metadata": {},
   "source": [
    "### References\n",
    "\n",
    "1. https://www.youtube.com/watch?v=_PwhiWxHK8o - Video Lecture with Mathematical Proof\n",
    "2. http://scikit-learn.org/stable/modules/svm.html - sklearn documentation\n",
    "3. https://www.microsoft.com/en-us/research/wp-content/uploads/2016/02/svmtutorial.pdf - Another great tutorial from Microsoft \n",
    "4. http://web.mit.edu/6.034/wwwbob/svm-notes-long-08.pdf - SVM notes for general public\n"
   ]
  }
 ],
 "metadata": {
  "kernelspec": {
   "display_name": "Python 3",
   "language": "python",
   "name": "python3"
  },
  "language_info": {
   "codemirror_mode": {
    "name": "ipython",
    "version": 3
   },
   "file_extension": ".py",
   "mimetype": "text/x-python",
   "name": "python",
   "nbconvert_exporter": "python",
   "pygments_lexer": "ipython3",
   "version": "3.5.2"
  },
  "toc": {
   "base_numbering": 1,
   "nav_menu": {},
   "number_sections": true,
   "sideBar": true,
   "skip_h1_title": false,
   "title_cell": "Table of Contents",
   "title_sidebar": "Contents",
   "toc_cell": false,
   "toc_position": {
    "height": "calc(100% - 180px)",
    "left": "10px",
    "top": "150px",
    "width": "165px"
   },
   "toc_section_display": true,
   "toc_window_display": false
  },
  "widgets": {
   "state": {},
   "version": "1.1.2"
  }
 },
 "nbformat": 4,
 "nbformat_minor": 2
}
