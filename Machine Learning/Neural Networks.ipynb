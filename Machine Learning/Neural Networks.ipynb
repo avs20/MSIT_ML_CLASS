{
 "cells": [
  {
   "cell_type": "markdown",
   "metadata": {},
   "source": [
    "## Neural Networks\n",
    "\n",
    "\n",
    "Assunig you are working for a bank. you need to predict how many transactions each customer will make next year\n",
    "\n",
    "This is how Linear Regression works. \n",
    "\n",
    "![](../images/nn_linear_regression.png)"
   ]
  },
  {
   "cell_type": "code",
   "execution_count": null,
   "metadata": {
    "collapsed": true
   },
   "outputs": [],
   "source": [
    "y = a1x1 + a2x2+a3x3 + ...."
   ]
  },
  {
   "cell_type": "markdown",
   "metadata": {},
   "source": [
    "Linear Regression assumes that it's the sum of individual parts. Like there is some effect of age, some effect of bank balance and so on. \n",
    "\n",
    "But there is also interaction between these parts which is not taken into acocunt by these. \n",
    "\n",
    "\n",
    "\n",
    "### Interactions\n",
    "Neural networks account for interactions really well \n",
    "\n",
    "Deep learning uses especially powerful neural networks\n",
    "\n",
    "* Text\n",
    "* Images \n",
    "* Videos \n",
    "* Audio \n",
    "* Source code"
   ]
  },
  {
   "cell_type": "markdown",
   "metadata": {},
   "source": [
    "**How interactions are modelled?**\n",
    "\n",
    "![](../images/interactions.png)\n",
    "\n",
    "Here we add a function to understand the interaction between these 2 and then we try to predict them. \n",
    "\n",
    "But this is simple. In reality something like this happens \n",
    "\n",
    "![](../images/nn_interations.png)\n",
    "\n",
    "\n",
    "Left Input layer - takes features \n",
    "\n",
    "Right - output layer prediction)\n",
    "\n",
    "In the middle - Hidden layers (not from the world)\n",
    "\n",
    "Each circle is a **node**. Each node models ability to capture interactions. \n",
    "\n",
    "More nodes = more interactions. \n",
    "\n"
   ]
  },
  {
   "cell_type": "markdown",
   "metadata": {},
   "source": [
    "### How NN use data to make predictions\n",
    "\n",
    "Let's again see how many transactions to make \n",
    "\n",
    "**Make predictions based on:** \n",
    "* Number of children\n",
    "* Number of existing accounts\n",
    "\n",
    "These are the features or input\n",
    "\n",
    "![](../images/fp_1.png)\n",
    "\n",
    "\n",
    "Each Line has a weight to signify how strongly that input affects that node. \n",
    "\n",
    "These weights are parameters we need to work upon. \n",
    "\n",
    "to calculate the values of the hidden layer we\n",
    "\n",
    "1. multiply each input by the node weight\n",
    "2. Calculate the sum \n",
    "\n",
    "\n",
    "Repeat the process for each layer. \n",
    "\n",
    "\n",
    "#### Forward propagation\n",
    "1. Multiply - add process\n",
    "2. Dot product\n",
    "3. Forward propagation for one data point at a time 4. 4. Output is the prediction for that data point"
   ]
  },
  {
   "cell_type": "code",
   "execution_count": 12,
   "metadata": {
    "scrolled": true
   },
   "outputs": [
    {
     "name": "stdout",
     "output_type": "stream",
     "text": [
      "5\n",
      "1\n",
      "[5 1]\n",
      "9\n"
     ]
    }
   ],
   "source": [
    "import numpy as np \n",
    "\n",
    "input_data = np.array([2,3])\n",
    "\n",
    "weights = {'node_0': np.array([1,1]),\n",
    "           'node_1': np.array([-1,1]),\n",
    "           'output': np.array([2,-1])}\n",
    "\n",
    "\n",
    "\n",
    "\n",
    "# Calculate node 0 value: node_0_value\n",
    "node_0_value = (input_data * weights['node_0']).sum()\n",
    "\n",
    "# Calculate node 1 value: node_1_value\n",
    "node_1_value = (input_data * weights['node_1']).sum()\n",
    "\n",
    "print(node_0_value)\n",
    "print(node_1_value)\n",
    "# Put node values into array: hidden_layer_outputs\n",
    "hidden_layer_outputs = np.array([node_0_value, node_1_value])\n",
    "\n",
    "print(hidden_layer_outputs)\n",
    "\n",
    "prediction = (hidden_layer_outputs * weights['output']).sum()\n",
    "\n",
    "print(prediction)"
   ]
  },
  {
   "cell_type": "markdown",
   "metadata": {},
   "source": [
    "## Activation Function \n",
    "\n",
    "What we saw now is just another way to represent linear models. So we are not acheiving anything more than simple linear regression in the relationships. \n",
    "\n",
    "We need to model them using non-linear relationships and we can do this by using an activation function on the value of nodes. \n",
    "\n",
    "A famous function was tanh\n",
    "\n",
    "![](../images/TanhReal.gif)\n",
    "\n",
    "How will this be applied\n",
    "\n",
    "![](../images/activation_tanh.png)\n",
    "\n",
    "\n",
    "Recent research has produced a much better and faster Activation function \n",
    "\n",
    "### Rectified Linear Unit (ReLU)\n",
    "\n",
    "![](../images/activation_relu.png)"
   ]
  },
  {
   "cell_type": "code",
   "execution_count": null,
   "metadata": {
    "collapsed": true
   },
   "outputs": [],
   "source": []
  },
  {
   "cell_type": "code",
   "execution_count": null,
   "metadata": {
    "collapsed": true
   },
   "outputs": [],
   "source": []
  },
  {
   "cell_type": "markdown",
   "metadata": {},
   "source": [
    "The Rectified Linear Activation Function\n",
    "\n",
    "\n",
    "The rectified linear activation function (called ReLU) has been shown to lead to very high-performance networks. This function takes a single number as an input, returning 0 if the input is negative, and the input if the input is positive.\n",
    "\n",
    "Here are some examples:\n",
    "\n",
    "relu(3) = 3 \n",
    "\n",
    "relu(-3) = 0 "
   ]
  },
  {
   "cell_type": "code",
   "execution_count": 13,
   "metadata": {
    "scrolled": true
   },
   "outputs": [
    {
     "name": "stdout",
     "output_type": "stream",
     "text": [
      "9\n"
     ]
    }
   ],
   "source": [
    "def relu(input):\n",
    "    '''Define your relu activation function here'''\n",
    "    # Calculate the value for the output of the relu function: output\n",
    "    output = max(0, input)\n",
    "    \n",
    "    # Return the value just calculated\n",
    "    return(output)\n",
    "\n",
    "# Calculate node 0 value: node_0_output\n",
    "node_0_input = (input_data * weights['node_0']).sum()\n",
    "node_0_output = relu(node_0_input)\n",
    "\n",
    "# Calculate node 1 value: node_1_output\n",
    "node_1_input = (input_data * weights['node_1']).sum()\n",
    "node_1_output = relu(node_1_input)\n",
    "\n",
    "# Put node values into array: hidden_layer_outputs\n",
    "hidden_layer_outputs = np.array([node_0_output, node_1_output])\n",
    "\n",
    "# Calculate model output (do not apply relu)\n",
    "model_output = (hidden_layer_outputs * weights['output']).sum()\n",
    "\n",
    "# Print model output\n",
    "print(model_output)"
   ]
  },
  {
   "cell_type": "markdown",
   "metadata": {},
   "source": [
    "### Deeper networks"
   ]
  },
  {
   "cell_type": "markdown",
   "metadata": {},
   "source": [
    "![](../images/activaation_deeper.png)\n",
    "\n",
    "\n",
    "\n",
    "![](../images/activation_Deeper_answer.png)"
   ]
  },
  {
   "cell_type": "code",
   "execution_count": null,
   "metadata": {
    "collapsed": true
   },
   "outputs": [],
   "source": [
    "What Layers are learning?\n",
    "\n",
    "https://www.youtube.com/watch?v=AgkfIQ4IGaM\n",
    "    \n",
    "See papers from youtube on 2 minute papers \n",
    "\n",
    "Michael nelison book : http://neuralnetworksanddeeplearning.com\n",
    "        \n",
    "http://www.deeplearningbook.org/ - Good book \n",
    "    \n"
   ]
  }
 ],
 "metadata": {
  "kernelspec": {
   "display_name": "Python [conda env:carnd-term1]",
   "language": "python",
   "name": "conda-env-carnd-term1-py"
  },
  "language_info": {
   "codemirror_mode": {
    "name": "ipython",
    "version": 3
   },
   "file_extension": ".py",
   "mimetype": "text/x-python",
   "name": "python",
   "nbconvert_exporter": "python",
   "pygments_lexer": "ipython3",
   "version": "3.5.2"
  }
 },
 "nbformat": 4,
 "nbformat_minor": 2
}
