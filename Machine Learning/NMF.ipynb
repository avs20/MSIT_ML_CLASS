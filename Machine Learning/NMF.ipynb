{
 "cells": [
  {
   "cell_type": "markdown",
   "metadata": {},
   "source": [
    "## Non-negative Matrix Factorization (NMF)\n",
    "\n",
    "* Dimension Reduction\n",
    "* can tell us  interpretable parts unlike PCA\n",
    "     * documents - combination of topics \n",
    "     * images - parts features \n",
    "     \n",
    "sklearn NMF\n",
    "\n",
    "* need to provide n_components\n",
    "\n",
    "* feature values must be non-negative\n",
    "\n",
    "\n",
    "Samples Can be reconstructed \n",
    "\n",
    "MF - Matrix Factorization \n",
    "Divide the matrix in 2 parts \n",
    "    "
   ]
  },
  {
   "cell_type": "code",
   "execution_count": 96,
   "metadata": {
    "collapsed": true
   },
   "outputs": [],
   "source": [
    "\n",
    "\n",
    "import pandas as pd\n",
    "import numpy as np \n",
    "\n"
   ]
  },
  {
   "cell_type": "code",
   "execution_count": null,
   "metadata": {
    "collapsed": true
   },
   "outputs": [],
   "source": []
  },
  {
   "cell_type": "code",
   "execution_count": null,
   "metadata": {
    "collapsed": true
   },
   "outputs": [],
   "source": []
  },
  {
   "cell_type": "code",
   "execution_count": null,
   "metadata": {
    "collapsed": true
   },
   "outputs": [],
   "source": []
  },
  {
   "cell_type": "code",
   "execution_count": 97,
   "metadata": {},
   "outputs": [
    {
     "name": "stdout",
     "output_type": "stream",
     "text": [
      "['HTTP 404', 'Alexa Internet', 'Internet Explorer', 'HTTP cookie', 'Google Search', 'Tumblr', 'Hypertext Transfer Protocol', 'Social search', 'Firefox', 'LinkedIn', 'Global warming', 'Nationally Appropriate Mitigation Action', 'Nigel Lawson', 'Connie Hedegaard', 'Climate change', 'Kyoto Protocol', '350.org', 'Greenhouse gas emissions by the United States', '2010 United Nations Climate Change Conference', '2007 United Nations Climate Change Conference', 'Angelina Jolie', 'Michael Fassbender', 'Denzel Washington', 'Catherine Zeta-Jones', 'Jessica Biel', 'Russell Crowe', 'Mila Kunis', 'Dakota Fanning', 'Anne Hathaway', 'Jennifer Aniston', 'France national football team', 'Cristiano Ronaldo', 'Arsenal F.C.', 'Radamel Falcao', 'Zlatan Ibrahimović', 'Colombia national football team', '2014 FIFA World Cup qualification', 'Football', 'Neymar', 'Franck Ribéry', 'Tonsillitis', 'Hepatitis B', 'Doxycycline', 'Leukemia', 'Gout', 'Hepatitis C', 'Prednisone', 'Fever', 'Gabapentin', 'Lymphoma', 'Chad Kroeger', 'Nate Ruess', 'The Wanted', 'Stevie Nicks', 'Arctic Monkeys', 'Black Sabbath', 'Skrillex', 'Red Hot Chili Peppers', 'Sepsis', 'Adam Levine']\n"
     ]
    }
   ],
   "source": [
    "articles = pd.read_csv('../datasets/wikipedia/wikipedia-vectors.csv')\n",
    "articles.drop(\"Unnamed: 0\",axis=1, inplace = True)\n",
    "titles = list(articles.columns)\n",
    "print(titles)"
   ]
  },
  {
   "cell_type": "code",
   "execution_count": 98,
   "metadata": {},
   "outputs": [
    {
     "data": {
      "text/plain": [
       "(60, 13125)"
      ]
     },
     "execution_count": 98,
     "metadata": {},
     "output_type": "execute_result"
    }
   ],
   "source": [
    "articles = articles.T\n",
    "articles.shape\n"
   ]
  },
  {
   "cell_type": "code",
   "execution_count": 100,
   "metadata": {
    "scrolled": true
   },
   "outputs": [
    {
     "name": "stdout",
     "output_type": "stream",
     "text": [
      "(60, 6)\n"
     ]
    }
   ],
   "source": [
    "# Import NMF\n",
    "from sklearn.decomposition import NMF\n",
    "\n",
    "# Create an NMF instance: model\n",
    "model = NMF(n_components = 6)\n",
    "\n",
    "# Fit the model to articles\n",
    "model.fit(articles)\n",
    "\n",
    "# Transform the articles: nmf_features\n",
    "nmf_features = model.transform(articles)\n",
    "\n",
    "# Print the NMF features\n",
    "# print(nmf_features)\n",
    "print(nmf_features.shape)"
   ]
  },
  {
   "cell_type": "markdown",
   "metadata": {},
   "source": [
    "This doesn't make sense at the moment but we will see later. \n",
    "\n",
    "Let's explore the NMF Features now \n"
   ]
  },
  {
   "cell_type": "code",
   "execution_count": 86,
   "metadata": {
    "scrolled": true
   },
   "outputs": [
    {
     "data": {
      "text/plain": [
       "['HTTP 404',\n",
       " 'Alexa Internet',\n",
       " 'Internet Explorer',\n",
       " 'HTTP cookie',\n",
       " 'Google Search',\n",
       " 'Tumblr',\n",
       " 'Hypertext Transfer Protocol',\n",
       " 'Social search',\n",
       " 'Firefox',\n",
       " 'LinkedIn',\n",
       " 'Global warming',\n",
       " 'Nationally Appropriate Mitigation Action',\n",
       " 'Nigel Lawson',\n",
       " 'Connie Hedegaard',\n",
       " 'Climate change',\n",
       " 'Kyoto Protocol',\n",
       " '350.org',\n",
       " 'Greenhouse gas emissions by the United States',\n",
       " '2010 United Nations Climate Change Conference',\n",
       " '2007 United Nations Climate Change Conference',\n",
       " 'Angelina Jolie',\n",
       " 'Michael Fassbender',\n",
       " 'Denzel Washington',\n",
       " 'Catherine Zeta-Jones',\n",
       " 'Jessica Biel',\n",
       " 'Russell Crowe',\n",
       " 'Mila Kunis',\n",
       " 'Dakota Fanning',\n",
       " 'Anne Hathaway',\n",
       " 'Jennifer Aniston',\n",
       " 'France national football team',\n",
       " 'Cristiano Ronaldo',\n",
       " 'Arsenal F.C.',\n",
       " 'Radamel Falcao',\n",
       " 'Zlatan Ibrahimović',\n",
       " 'Colombia national football team',\n",
       " '2014 FIFA World Cup qualification',\n",
       " 'Football',\n",
       " 'Neymar',\n",
       " 'Franck Ribéry',\n",
       " 'Tonsillitis',\n",
       " 'Hepatitis B',\n",
       " 'Doxycycline',\n",
       " 'Leukemia',\n",
       " 'Gout',\n",
       " 'Hepatitis C',\n",
       " 'Prednisone',\n",
       " 'Fever',\n",
       " 'Gabapentin',\n",
       " 'Lymphoma',\n",
       " 'Chad Kroeger',\n",
       " 'Nate Ruess',\n",
       " 'The Wanted',\n",
       " 'Stevie Nicks',\n",
       " 'Arctic Monkeys',\n",
       " 'Black Sabbath',\n",
       " 'Skrillex',\n",
       " 'Red Hot Chili Peppers',\n",
       " 'Sepsis',\n",
       " 'Adam Levine']"
      ]
     },
     "execution_count": 86,
     "metadata": {},
     "output_type": "execute_result"
    }
   ],
   "source": [
    "titles"
   ]
  },
  {
   "cell_type": "code",
   "execution_count": 87,
   "metadata": {},
   "outputs": [
    {
     "data": {
      "text/plain": [
       "60"
      ]
     },
     "execution_count": 87,
     "metadata": {},
     "output_type": "execute_result"
    }
   ],
   "source": [
    "len(titles)"
   ]
  },
  {
   "cell_type": "code",
   "execution_count": 101,
   "metadata": {
    "scrolled": true
   },
   "outputs": [
    {
     "name": "stdout",
     "output_type": "stream",
     "text": [
      "0    0.003846\n",
      "1    0.000000\n",
      "2    0.000000\n",
      "3    0.575693\n",
      "4    0.000000\n",
      "5    0.000000\n",
      "Name: Anne Hathaway, dtype: float64\n",
      "0    0.000000\n",
      "1    0.005601\n",
      "2    0.000000\n",
      "3    0.422367\n",
      "4    0.000000\n",
      "5    0.000000\n",
      "Name: Denzel Washington, dtype: float64\n"
     ]
    }
   ],
   "source": [
    "# Create a pandas DataFrame: df\n",
    "df = pd.DataFrame(nmf_features, index = titles)\n",
    "\n",
    "# Print the row for 'Anne Hathaway'\n",
    "print(df.loc['Anne Hathaway'])\n",
    "\n",
    "# Print the row for 'Denzel Washington'\n",
    "print(df.loc['Denzel Washington'])"
   ]
  },
  {
   "cell_type": "code",
   "execution_count": 102,
   "metadata": {},
   "outputs": [
    {
     "data": {
      "text/plain": [
       "0    0.000000\n",
       "1    0.000000\n",
       "2    0.483304\n",
       "3    0.000000\n",
       "4    0.000000\n",
       "5    0.000000\n",
       "Name: Kyoto Protocol, dtype: float64"
      ]
     },
     "execution_count": 102,
     "metadata": {},
     "output_type": "execute_result"
    }
   ],
   "source": [
    "df.loc['Kyoto Protocol']"
   ]
  },
  {
   "cell_type": "markdown",
   "metadata": {},
   "source": [
    "NMF with documents will give us matrix which learns the topics of the document.  So let's see what topics we have for the Actors features"
   ]
  },
  {
   "cell_type": "code",
   "execution_count": 103,
   "metadata": {},
   "outputs": [
    {
     "data": {
      "text/html": [
       "<div>\n",
       "<style>\n",
       "    .dataframe thead tr:only-child th {\n",
       "        text-align: right;\n",
       "    }\n",
       "\n",
       "    .dataframe thead th {\n",
       "        text-align: left;\n",
       "    }\n",
       "\n",
       "    .dataframe tbody tr th {\n",
       "        vertical-align: top;\n",
       "    }\n",
       "</style>\n",
       "<table border=\"1\" class=\"dataframe\">\n",
       "  <thead>\n",
       "    <tr style=\"text-align: right;\">\n",
       "      <th></th>\n",
       "      <th>words</th>\n",
       "    </tr>\n",
       "  </thead>\n",
       "  <tbody>\n",
       "    <tr>\n",
       "      <th>0</th>\n",
       "      <td>aaron</td>\n",
       "    </tr>\n",
       "    <tr>\n",
       "      <th>1</th>\n",
       "      <td>abandon</td>\n",
       "    </tr>\n",
       "    <tr>\n",
       "      <th>2</th>\n",
       "      <td>abandoned</td>\n",
       "    </tr>\n",
       "    <tr>\n",
       "      <th>3</th>\n",
       "      <td>abandoning</td>\n",
       "    </tr>\n",
       "    <tr>\n",
       "      <th>4</th>\n",
       "      <td>abandonment</td>\n",
       "    </tr>\n",
       "  </tbody>\n",
       "</table>\n",
       "</div>"
      ],
      "text/plain": [
       "         words\n",
       "0        aaron\n",
       "1      abandon\n",
       "2    abandoned\n",
       "3   abandoning\n",
       "4  abandonment"
      ]
     },
     "execution_count": 103,
     "metadata": {},
     "output_type": "execute_result"
    }
   ],
   "source": [
    "words = pd.read_csv('../datasets/wikipedia/wikipedia-vocabulary-utf8.txt', names=[\"words\"])\n",
    "words.head()\n"
   ]
  },
  {
   "cell_type": "code",
   "execution_count": 106,
   "metadata": {
    "scrolled": true
   },
   "outputs": [
    {
     "name": "stdout",
     "output_type": "stream",
     "text": [
      "   (aaron,)  (abandon,)  (abandoned,)  (abandoning,)  (abandonment,)  \\\n",
      "0  0.011375    0.001210      0.000000       0.001739        0.000136   \n",
      "1  0.000000    0.000010      0.005663       0.000000        0.000002   \n",
      "2  0.000000    0.000008      0.000000       0.000000        0.004691   \n",
      "3  0.004148    0.000000      0.003056       0.000000        0.000614   \n",
      "4  0.000000    0.000568      0.004917       0.000000        0.000000   \n",
      "\n",
      "   (abbas,)  (abbey,)  (abbreviated,)  (abbreviation,)    (abc,)   ...    \\\n",
      "0       0.0       0.0        0.002463     2.445818e-07  0.000834   ...     \n",
      "1       0.0       0.0        0.000566     5.002537e-04  0.000000   ...     \n",
      "2       0.0       0.0        0.000758     1.604206e-05  0.000000   ...     \n",
      "3       0.0       0.0        0.002436     8.143510e-05  0.003985   ...     \n",
      "4       0.0       0.0        0.000089     4.259276e-05  0.000000   ...     \n",
      "\n",
      "   (zealand,)  (zenith,)  (zeppelin,)   (zero,)  (zeus,)  (zimbabwe,)  \\\n",
      "0    0.025780        0.0     0.008324  0.000000      0.0          0.0   \n",
      "1    0.008106        0.0     0.000000  0.001710      0.0          0.0   \n",
      "2    0.008730        0.0     0.000000  0.001317      0.0          0.0   \n",
      "3    0.012594        0.0     0.000000  0.000000      0.0          0.0   \n",
      "4    0.001809        0.0     0.000000  0.000017      0.0          0.0   \n",
      "\n",
      "   (zinc,)   (zone,)  (zones,)  (zoo,)  \n",
      "0      0.0  0.000000  0.000424     0.0  \n",
      "1      0.0  0.002813  0.000297     0.0  \n",
      "2      0.0  0.000000  0.000143     0.0  \n",
      "3      0.0  0.001742  0.006720     0.0  \n",
      "4      0.0  0.000192  0.001351     0.0  \n",
      "\n",
      "[5 rows x 13125 columns]\n",
      "(6, 13125)\n",
      "(13125,)\n",
      "(film,)       0.627895\n",
      "(award,)      0.253139\n",
      "(starred,)    0.245291\n",
      "(role,)       0.211457\n",
      "(actress,)    0.186403\n",
      "Name: 3, dtype: float64\n"
     ]
    }
   ],
   "source": [
    "\n",
    "\n",
    "# Create a DataFrame: components_df\n",
    "components_df = pd.DataFrame(model.components_, columns = words)\n",
    "\n",
    "print(components_df.head())\n",
    "# Print the shape of the DataFrame\n",
    "print(components_df.shape)\n",
    "\n",
    "\n",
    "\n",
    "# Select row 3: component\n",
    "component = components_df.iloc[3]\n",
    "print(component.shape)\n",
    "\n",
    "# Print result of nlargest\n",
    "print(component.nlargest())"
   ]
  },
  {
   "cell_type": "code",
   "execution_count": 107,
   "metadata": {},
   "outputs": [
    {
     "name": "stdout",
     "output_type": "stream",
     "text": [
      "(13125,)\n",
      "(search,)      0.430267\n",
      "(web,)         0.391251\n",
      "(google,)      0.386795\n",
      "(users,)       0.282694\n",
      "(internet,)    0.255455\n",
      "Name: 5, dtype: float64\n"
     ]
    }
   ],
   "source": [
    "# Select row 3: component\n",
    "component = components_df.iloc[5]\n",
    "print(component.shape)\n",
    "\n",
    "# Print result of nlargest\n",
    "print(component.nlargest())"
   ]
  },
  {
   "cell_type": "markdown",
   "metadata": {},
   "source": [
    "## What is going on here?"
   ]
  },
  {
   "cell_type": "code",
   "execution_count": 57,
   "metadata": {},
   "outputs": [
    {
     "data": {
      "text/html": [
       "<div>\n",
       "<style>\n",
       "    .dataframe thead tr:only-child th {\n",
       "        text-align: right;\n",
       "    }\n",
       "\n",
       "    .dataframe thead th {\n",
       "        text-align: left;\n",
       "    }\n",
       "\n",
       "    .dataframe tbody tr th {\n",
       "        vertical-align: top;\n",
       "    }\n",
       "</style>\n",
       "<table border=\"1\" class=\"dataframe\">\n",
       "  <thead>\n",
       "    <tr style=\"text-align: right;\">\n",
       "      <th></th>\n",
       "      <th>(aaron,)</th>\n",
       "      <th>(abandon,)</th>\n",
       "      <th>(abandoned,)</th>\n",
       "      <th>(abandoning,)</th>\n",
       "      <th>(abandonment,)</th>\n",
       "      <th>(abbas,)</th>\n",
       "      <th>(abbey,)</th>\n",
       "      <th>(abbreviated,)</th>\n",
       "      <th>(abbreviation,)</th>\n",
       "      <th>(abc,)</th>\n",
       "      <th>...</th>\n",
       "      <th>(zealand,)</th>\n",
       "      <th>(zenith,)</th>\n",
       "      <th>(zeppelin,)</th>\n",
       "      <th>(zero,)</th>\n",
       "      <th>(zeus,)</th>\n",
       "      <th>(zimbabwe,)</th>\n",
       "      <th>(zinc,)</th>\n",
       "      <th>(zone,)</th>\n",
       "      <th>(zones,)</th>\n",
       "      <th>(zoo,)</th>\n",
       "    </tr>\n",
       "  </thead>\n",
       "  <tbody>\n",
       "    <tr>\n",
       "      <th>0</th>\n",
       "      <td>0.011376</td>\n",
       "      <td>0.001210</td>\n",
       "      <td>0.000000</td>\n",
       "      <td>0.001739</td>\n",
       "      <td>0.000136</td>\n",
       "      <td>0.0</td>\n",
       "      <td>0.0</td>\n",
       "      <td>0.002463</td>\n",
       "      <td>2.446731e-07</td>\n",
       "      <td>0.000834</td>\n",
       "      <td>...</td>\n",
       "      <td>0.025781</td>\n",
       "      <td>0.0</td>\n",
       "      <td>0.008324</td>\n",
       "      <td>0.000000</td>\n",
       "      <td>0.0</td>\n",
       "      <td>0.0</td>\n",
       "      <td>0.0</td>\n",
       "      <td>0.000000</td>\n",
       "      <td>0.000424</td>\n",
       "      <td>0.0</td>\n",
       "    </tr>\n",
       "    <tr>\n",
       "      <th>1</th>\n",
       "      <td>0.000000</td>\n",
       "      <td>0.000010</td>\n",
       "      <td>0.005663</td>\n",
       "      <td>0.000000</td>\n",
       "      <td>0.000002</td>\n",
       "      <td>0.0</td>\n",
       "      <td>0.0</td>\n",
       "      <td>0.000566</td>\n",
       "      <td>5.002185e-04</td>\n",
       "      <td>0.000000</td>\n",
       "      <td>...</td>\n",
       "      <td>0.008106</td>\n",
       "      <td>0.0</td>\n",
       "      <td>0.000000</td>\n",
       "      <td>0.001710</td>\n",
       "      <td>0.0</td>\n",
       "      <td>0.0</td>\n",
       "      <td>0.0</td>\n",
       "      <td>0.002813</td>\n",
       "      <td>0.000297</td>\n",
       "      <td>0.0</td>\n",
       "    </tr>\n",
       "    <tr>\n",
       "      <th>2</th>\n",
       "      <td>0.000000</td>\n",
       "      <td>0.000008</td>\n",
       "      <td>0.000000</td>\n",
       "      <td>0.000000</td>\n",
       "      <td>0.004691</td>\n",
       "      <td>0.0</td>\n",
       "      <td>0.0</td>\n",
       "      <td>0.000758</td>\n",
       "      <td>1.604131e-05</td>\n",
       "      <td>0.000000</td>\n",
       "      <td>...</td>\n",
       "      <td>0.008730</td>\n",
       "      <td>0.0</td>\n",
       "      <td>0.000000</td>\n",
       "      <td>0.001317</td>\n",
       "      <td>0.0</td>\n",
       "      <td>0.0</td>\n",
       "      <td>0.0</td>\n",
       "      <td>0.000000</td>\n",
       "      <td>0.000143</td>\n",
       "      <td>0.0</td>\n",
       "    </tr>\n",
       "    <tr>\n",
       "      <th>3</th>\n",
       "      <td>0.004149</td>\n",
       "      <td>0.000000</td>\n",
       "      <td>0.003056</td>\n",
       "      <td>0.000000</td>\n",
       "      <td>0.000614</td>\n",
       "      <td>0.0</td>\n",
       "      <td>0.0</td>\n",
       "      <td>0.002436</td>\n",
       "      <td>8.144333e-05</td>\n",
       "      <td>0.003985</td>\n",
       "      <td>...</td>\n",
       "      <td>0.012595</td>\n",
       "      <td>0.0</td>\n",
       "      <td>0.000000</td>\n",
       "      <td>0.000000</td>\n",
       "      <td>0.0</td>\n",
       "      <td>0.0</td>\n",
       "      <td>0.0</td>\n",
       "      <td>0.001742</td>\n",
       "      <td>0.006721</td>\n",
       "      <td>0.0</td>\n",
       "    </tr>\n",
       "    <tr>\n",
       "      <th>4</th>\n",
       "      <td>0.000000</td>\n",
       "      <td>0.000568</td>\n",
       "      <td>0.004917</td>\n",
       "      <td>0.000000</td>\n",
       "      <td>0.000000</td>\n",
       "      <td>0.0</td>\n",
       "      <td>0.0</td>\n",
       "      <td>0.000089</td>\n",
       "      <td>4.258975e-05</td>\n",
       "      <td>0.000000</td>\n",
       "      <td>...</td>\n",
       "      <td>0.001809</td>\n",
       "      <td>0.0</td>\n",
       "      <td>0.000000</td>\n",
       "      <td>0.000017</td>\n",
       "      <td>0.0</td>\n",
       "      <td>0.0</td>\n",
       "      <td>0.0</td>\n",
       "      <td>0.000192</td>\n",
       "      <td>0.001351</td>\n",
       "      <td>0.0</td>\n",
       "    </tr>\n",
       "  </tbody>\n",
       "</table>\n",
       "<p>5 rows × 13125 columns</p>\n",
       "</div>"
      ],
      "text/plain": [
       "   (aaron,)  (abandon,)  (abandoned,)  (abandoning,)  (abandonment,)  \\\n",
       "0  0.011376    0.001210      0.000000       0.001739        0.000136   \n",
       "1  0.000000    0.000010      0.005663       0.000000        0.000002   \n",
       "2  0.000000    0.000008      0.000000       0.000000        0.004691   \n",
       "3  0.004149    0.000000      0.003056       0.000000        0.000614   \n",
       "4  0.000000    0.000568      0.004917       0.000000        0.000000   \n",
       "\n",
       "   (abbas,)  (abbey,)  (abbreviated,)  (abbreviation,)    (abc,)   ...    \\\n",
       "0       0.0       0.0        0.002463     2.446731e-07  0.000834   ...     \n",
       "1       0.0       0.0        0.000566     5.002185e-04  0.000000   ...     \n",
       "2       0.0       0.0        0.000758     1.604131e-05  0.000000   ...     \n",
       "3       0.0       0.0        0.002436     8.144333e-05  0.003985   ...     \n",
       "4       0.0       0.0        0.000089     4.258975e-05  0.000000   ...     \n",
       "\n",
       "   (zealand,)  (zenith,)  (zeppelin,)   (zero,)  (zeus,)  (zimbabwe,)  \\\n",
       "0    0.025781        0.0     0.008324  0.000000      0.0          0.0   \n",
       "1    0.008106        0.0     0.000000  0.001710      0.0          0.0   \n",
       "2    0.008730        0.0     0.000000  0.001317      0.0          0.0   \n",
       "3    0.012595        0.0     0.000000  0.000000      0.0          0.0   \n",
       "4    0.001809        0.0     0.000000  0.000017      0.0          0.0   \n",
       "\n",
       "   (zinc,)   (zone,)  (zones,)  (zoo,)  \n",
       "0      0.0  0.000000  0.000424     0.0  \n",
       "1      0.0  0.002813  0.000297     0.0  \n",
       "2      0.0  0.000000  0.000143     0.0  \n",
       "3      0.0  0.001742  0.006721     0.0  \n",
       "4      0.0  0.000192  0.001351     0.0  \n",
       "\n",
       "[5 rows x 13125 columns]"
      ]
     },
     "execution_count": 57,
     "metadata": {},
     "output_type": "execute_result"
    }
   ],
   "source": [
    "components_df.head()"
   ]
  },
  {
   "cell_type": "markdown",
   "metadata": {},
   "source": [
    "## NMF learns it's parts\n",
    "\n",
    "Firstly, Let's explore the image dataset and see how it is encoded as an array. You are given 100 images as a 2D array samples, where each row represents a single 13x8 image. The images in your dataset are pictures of a LED digital display."
   ]
  },
  {
   "cell_type": "code",
   "execution_count": 115,
   "metadata": {},
   "outputs": [
    {
     "name": "stdout",
     "output_type": "stream",
     "text": [
      "[ 0.  0.  0.  0.  0.  0.  0.  0.  0.  0.  1.  1.  1.  1.  0.  0.  0.  1.\n",
      "  0.  0.  0.  0.  1.  0.  0.  1.  0.  0.  0.  0.  1.  0.  0.  1.  0.  0.\n",
      "  0.  0.  1.  0.  0.  1.  0.  0.  0.  0.  1.  0.  0.  0.  1.  1.  1.  1.\n",
      "  0.  0.  0.  0.  0.  0.  0.  0.  0.  0.  0.  0.  0.  0.  0.  0.  0.  0.\n",
      "  0.  0.  0.  0.  0.  0.  0.  0.  0.  0.  0.  0.  0.  0.  0.  0.  0.  0.\n",
      "  0.  0.  0.  0.  0.  0.  0.  0.  0.  0.  0.  0.  0.  0.]\n",
      "[[ 0.  0.  0.  0.  0.  0.  0.  0.]\n",
      " [ 0.  0.  1.  1.  1.  1.  0.  0.]\n",
      " [ 0.  1.  0.  0.  0.  0.  1.  0.]\n",
      " [ 0.  1.  0.  0.  0.  0.  1.  0.]\n",
      " [ 0.  1.  0.  0.  0.  0.  1.  0.]\n",
      " [ 0.  1.  0.  0.  0.  0.  1.  0.]\n",
      " [ 0.  0.  1.  1.  1.  1.  0.  0.]\n",
      " [ 0.  0.  0.  0.  0.  0.  0.  0.]\n",
      " [ 0.  0.  0.  0.  0.  0.  0.  0.]\n",
      " [ 0.  0.  0.  0.  0.  0.  0.  0.]\n",
      " [ 0.  0.  0.  0.  0.  0.  0.  0.]\n",
      " [ 0.  0.  0.  0.  0.  0.  0.  0.]\n",
      " [ 0.  0.  0.  0.  0.  0.  0.  0.]]\n"
     ]
    },
    {
     "data": {
      "image/png": "[encoded data removed]",
      "text/plain": [
       "<matplotlib.figure.Figure at 0x11a7fbac8>"
      ]
     },
     "metadata": {},
     "output_type": "display_data"
    }
   ],
   "source": [
    "# Import pyplot\n",
    "from matplotlib import pyplot as plt\n",
    "%matplotlib inline\n",
    "\n",
    "samples = pd.read_csv('../datasets/lcd-digits.csv')\n",
    "# print(samples.head())\n",
    "samples = samples.values\n",
    "\n",
    "# Select the 0th row: digit\n",
    "digit = samples[0]\n",
    "\n",
    "# Print digit\n",
    "print(digit)\n",
    "\n",
    "# Reshape digit to a 13x8 array: bitmap\n",
    "bitmap = digit.reshape(13,8)\n",
    "\n",
    "# Print bitmap\n",
    "print(bitmap)\n",
    "\n",
    "# Use plt.imshow to display bitmap\n",
    "plt.imshow(bitmap, cmap='gray', interpolation='nearest')\n",
    "plt.colorbar()\n",
    "plt.show()\n"
   ]
  },
  {
   "cell_type": "markdown",
   "metadata": {},
   "source": [
    "Now use what you've learned about NMF to decompose the digits dataset. You are again given the digit images as a 2D array samples. This time, you are also provided with a function show_as_image() that displays the image encoded by any 1D array:\n",
    "lt.show()\n",
    "\n",
    "After you are done, take a moment to look through the plots and notice how NMF has expressed the digit as a sum of the components!"
   ]
  },
  {
   "cell_type": "code",
   "execution_count": 109,
   "metadata": {
    "collapsed": true
   },
   "outputs": [],
   "source": [
    "def show_as_image(sample):\n",
    "    bitmap = sample.reshape((13, 8))\n",
    "    plt.figure()\n",
    "    plt.imshow(bitmap, cmap='gray', interpolation='nearest')\n",
    "    plt.colorbar()\n",
    "    plt.show()"
   ]
  },
  {
   "cell_type": "code",
   "execution_count": 116,
   "metadata": {
    "scrolled": false
   },
   "outputs": [
    {
     "data": {
      "image/png": "[encoded data removed]",
      "text/plain": [
       "<matplotlib.figure.Figure at 0x121f021d0>"
      ]
     },
     "metadata": {},
     "output_type": "display_data"
    },
    {
     "data": {
      "image/png": "[encoded data removed]",
      "text/plain": [
       "<matplotlib.figure.Figure at 0x121e534a8>"
      ]
     },
     "metadata": {},
     "output_type": "display_data"
    },
    {
     "data": {
      "image/png": "[encoded data removed]",
      "text/plain": [
       "<matplotlib.figure.Figure at 0x121d19160>"
      ]
     },
     "metadata": {},
     "output_type": "display_data"
    },
    {
     "data": {
      "image/png": "[encoded data removed]",
      "text/plain": [
       "<matplotlib.figure.Figure at 0x1245497f0>"
      ]
     },
     "metadata": {},
     "output_type": "display_data"
    },
    {
     "data": {
      "image/png": "[encoded data removed]",
      "text/plain": [
       "<matplotlib.figure.Figure at 0x11a24e470>"
      ]
     },
     "metadata": {},
     "output_type": "display_data"
    },
    {
     "data": {
      "image/png": "[encoded data removed]",
      "text/plain": [
       "<matplotlib.figure.Figure at 0x121e7ddd8>"
      ]
     },
     "metadata": {},
     "output_type": "display_data"
    },
    {
     "data": {
      "image/png": "[encoded data removed]",
      "text/plain": [
       "<matplotlib.figure.Figure at 0x12476c5f8>"
      ]
     },
     "metadata": {},
     "output_type": "display_data"
    },
    {
     "name": "stdout",
     "output_type": "stream",
     "text": [
      "[ 0.56389272  0.          0.59151401  0.          0.53290007  0.48133215\n",
      "  0.        ]\n"
     ]
    }
   ],
   "source": [
    "# Import NMF\n",
    "from sklearn.decomposition import NMF\n",
    "\n",
    "# Create an NMF model: model\n",
    "model = NMF(n_components = 7)\n",
    "\n",
    "# Apply fit_transform to samples: features\n",
    "features = model.fit_transform(samples)\n",
    "\n",
    "# Call show_as_image on each component\n",
    "for component in model.components_:\n",
    "    show_as_image(component)\n",
    "\n",
    "# Assign the 0th row of features: digit_features\n",
    "digit_features = features[0]\n",
    "\n",
    "# Print digit_features\n",
    "print(digit_features)"
   ]
  },
  {
   "cell_type": "markdown",
   "metadata": {},
   "source": [
    "PCA doesn't learn parts\n",
    "\n",
    "Unlike NMF, PCA doesn't learn the parts of things. Its components do not correspond to topics (in the case of documents) or to parts of images, when trained on images. \n"
   ]
  },
  {
   "cell_type": "code",
   "execution_count": 117,
   "metadata": {
    "scrolled": false
   },
   "outputs": [
    {
     "data": {
      "image/png": "[encoded data removed]",
      "text/plain": [
       "<matplotlib.figure.Figure at 0x121aeee10>"
      ]
     },
     "metadata": {},
     "output_type": "display_data"
    },
    {
     "data": {
      "image/png": "[encoded data removed]",
      "text/plain": [
       "<matplotlib.figure.Figure at 0x1245d34e0>"
      ]
     },
     "metadata": {},
     "output_type": "display_data"
    },
    {
     "data": {
      "image/png": "[encoded data removed]",
      "text/plain": [
       "<matplotlib.figure.Figure at 0x122849710>"
      ]
     },
     "metadata": {},
     "output_type": "display_data"
    },
    {
     "data": {
      "image/png": "[encoded data removed]",
      "text/plain": [
       "<matplotlib.figure.Figure at 0x12464db38>"
      ]
     },
     "metadata": {},
     "output_type": "display_data"
    },
    {
     "data": {
      "image/png": "[encoded data removed]",
      "text/plain": [
       "<matplotlib.figure.Figure at 0x1209b5d68>"
      ]
     },
     "metadata": {},
     "output_type": "display_data"
    },
    {
     "data": {
      "image/png": "[encoded data removed]",
      "text/plain": [
       "<matplotlib.figure.Figure at 0x124572780>"
      ]
     },
     "metadata": {},
     "output_type": "display_data"
    },
    {
     "data": {
      "image/png": "[encoded data removed]",
      "text/plain": [
       "<matplotlib.figure.Figure at 0x11a43a208>"
      ]
     },
     "metadata": {},
     "output_type": "display_data"
    }
   ],
   "source": [
    "# Import PCA\n",
    "from sklearn.decomposition import PCA\n",
    "\n",
    "# Create a PCA instance: model\n",
    "model = PCA(n_components = 7)\n",
    "\n",
    "# Apply fit_transform to samples: features\n",
    "features = model.fit_transform(samples)\n",
    "\n",
    "# Call show_as_image on each component\n",
    "for component in model.components_:\n",
    "    show_as_image(component)\n",
    "    "
   ]
  },
  {
   "cell_type": "markdown",
   "metadata": {},
   "source": [
    "## Recommendation Using NMF\n",
    "\n",
    "**Which articles are similar to 'Cristiano Ronaldo'?**\n",
    "\n",
    "Use NMF features and the cosine similarity to find similar articles. Apply this to your NMF model for popular Wikipedia articles, by finding the articles most similar to the article about the footballer Cristiano Ronaldo."
   ]
  },
  {
   "cell_type": "code",
   "execution_count": 118,
   "metadata": {},
   "outputs": [
    {
     "name": "stdout",
     "output_type": "stream",
     "text": [
      "Cristiano Ronaldo                1.000000\n",
      "Franck Ribéry                    0.999972\n",
      "Radamel Falcao                   0.999942\n",
      "Zlatan Ibrahimović               0.999942\n",
      "France national football team    0.999923\n",
      "dtype: float64\n"
     ]
    }
   ],
   "source": [
    "# Perform the necessary imports\n",
    "import pandas as pd\n",
    "from sklearn.preprocessing import normalize\n",
    "\n",
    "# Normalize the NMF features: norm_features\n",
    "norm_features = normalize(nmf_features)\n",
    "\n",
    "# Create a DataFrame: df\n",
    "df = pd.DataFrame(norm_features, index = titles)\n",
    "\n",
    "# Select the row corresponding to 'Cristiano Ronaldo': article\n",
    "article = df.loc['Cristiano Ronaldo']\n",
    "\n",
    "# Compute the dot products: similarities\n",
    "similarities = df.dot(article)\n",
    "\n",
    "# Display those with the largest cosine similarity\n",
    "print(similarities.nlargest())"
   ]
  },
  {
   "cell_type": "code",
   "execution_count": 112,
   "metadata": {},
   "outputs": [
    {
     "name": "stdout",
     "output_type": "stream",
     "text": [
      "HTTP 404          0.000724\n",
      "Alexa Internet    0.000724\n",
      "HTTP cookie       0.000724\n",
      "Google Search     0.000724\n",
      "Social search     0.000724\n",
      "dtype: float64\n"
     ]
    }
   ],
   "source": [
    "print(similarities.nsmallest())"
   ]
  },
  {
   "cell_type": "code",
   "execution_count": 113,
   "metadata": {},
   "outputs": [
    {
     "data": {
      "text/plain": [
       "['HTTP 404',\n",
       " 'Alexa Internet',\n",
       " 'Internet Explorer',\n",
       " 'HTTP cookie',\n",
       " 'Google Search',\n",
       " 'Tumblr',\n",
       " 'Hypertext Transfer Protocol',\n",
       " 'Social search',\n",
       " 'Firefox',\n",
       " 'LinkedIn',\n",
       " 'Global warming',\n",
       " 'Nationally Appropriate Mitigation Action',\n",
       " 'Nigel Lawson',\n",
       " 'Connie Hedegaard',\n",
       " 'Climate change',\n",
       " 'Kyoto Protocol',\n",
       " '350.org',\n",
       " 'Greenhouse gas emissions by the United States',\n",
       " '2010 United Nations Climate Change Conference',\n",
       " '2007 United Nations Climate Change Conference',\n",
       " 'Angelina Jolie',\n",
       " 'Michael Fassbender',\n",
       " 'Denzel Washington',\n",
       " 'Catherine Zeta-Jones',\n",
       " 'Jessica Biel',\n",
       " 'Russell Crowe',\n",
       " 'Mila Kunis',\n",
       " 'Dakota Fanning',\n",
       " 'Anne Hathaway',\n",
       " 'Jennifer Aniston',\n",
       " 'France national football team',\n",
       " 'Cristiano Ronaldo',\n",
       " 'Arsenal F.C.',\n",
       " 'Radamel Falcao',\n",
       " 'Zlatan Ibrahimović',\n",
       " 'Colombia national football team',\n",
       " '2014 FIFA World Cup qualification',\n",
       " 'Football',\n",
       " 'Neymar',\n",
       " 'Franck Ribéry',\n",
       " 'Tonsillitis',\n",
       " 'Hepatitis B',\n",
       " 'Doxycycline',\n",
       " 'Leukemia',\n",
       " 'Gout',\n",
       " 'Hepatitis C',\n",
       " 'Prednisone',\n",
       " 'Fever',\n",
       " 'Gabapentin',\n",
       " 'Lymphoma',\n",
       " 'Chad Kroeger',\n",
       " 'Nate Ruess',\n",
       " 'The Wanted',\n",
       " 'Stevie Nicks',\n",
       " 'Arctic Monkeys',\n",
       " 'Black Sabbath',\n",
       " 'Skrillex',\n",
       " 'Red Hot Chili Peppers',\n",
       " 'Sepsis',\n",
       " 'Adam Levine']"
      ]
     },
     "execution_count": 113,
     "metadata": {},
     "output_type": "execute_result"
    }
   ],
   "source": [
    "titles"
   ]
  },
  {
   "cell_type": "code",
   "execution_count": 114,
   "metadata": {
    "scrolled": true
   },
   "outputs": [
    {
     "name": "stdout",
     "output_type": "stream",
     "text": [
      "Fever          1.000000\n",
      "Gout           0.992556\n",
      "Prednisone     0.989276\n",
      "Doxycycline    0.988690\n",
      "Tonsillitis    0.987951\n",
      "dtype: float64\n"
     ]
    }
   ],
   "source": [
    "# Perform the necessary imports\n",
    "import pandas as pd\n",
    "from sklearn.preprocessing import normalize\n",
    "\n",
    "# Normalize the NMF features: norm_features\n",
    "norm_features = normalize(nmf_features)\n",
    "\n",
    "# Create a DataFrame: df\n",
    "df = pd.DataFrame(norm_features, index = titles)\n",
    "\n",
    "# Select the row corresponding to 'Cristiano Ronaldo': article\n",
    "article = df.loc['Fever']\n",
    "\n",
    "# Compute the dot products: similarities\n",
    "similarities = df.dot(article)\n",
    "\n",
    "# Display those with the largest cosine similarity\n",
    "print(similarities.nlargest())"
   ]
  },
  {
   "cell_type": "markdown",
   "metadata": {},
   "source": [
    "## Assignment\n",
    "\n",
    "Create a music recommendation service using the artist data. \n",
    "The data can be found in References links\n",
    "\n",
    "A smaller data is uploaded in the datasets folder. So first try on that. \n",
    "\n",
    "\n",
    "Steps to Complete it \n",
    "\n",
    "1. The data is not in the format we want (sparse and tidy), so first step is to convert to that. If you are unable to convert it then a ready format is already provided in the datasets folder. Use that. \n",
    "\n",
    "1. The data is not scaled. So first use a Scaler (Preferred in MaxabsScaler or Standard Scaler)\n",
    "\n",
    "2. Then use the Normalization of data to unit norm. [Why is this important wand What is this](http://scikit-learn.org/stable/modules/preprocessing.html#preprocessing-normalization)?\n",
    "\n",
    "3. Once you have the clean data then use NMF and do all the stuff. \n",
    "\n",
    "\n",
    "I love Simon and Garfunkel. What should I listen next? Email me. \n"
   ]
  },
  {
   "cell_type": "markdown",
   "metadata": {},
   "source": [
    "\n",
    "## References:\n",
    "\n",
    "1. http://vazic.me/non-negative-matrix-factorization-nmf/  A tutorial for interpretation of NMF matrices\n",
    "\n",
    "2. https://github.com/ADBI-Project/Project1/blob/master/user_artist_data_small.txt - User artist data full file "
   ]
  },
  {
   "cell_type": "code",
   "execution_count": null,
   "metadata": {
    "collapsed": true
   },
   "outputs": [],
   "source": []
  }
 ],
 "metadata": {
  "kernelspec": {
   "display_name": "Python 3",
   "language": "python",
   "name": "python3"
  },
  "language_info": {
   "codemirror_mode": {
    "name": "ipython",
    "version": 3
   },
   "file_extension": ".py",
   "mimetype": "text/x-python",
   "name": "python",
   "nbconvert_exporter": "python",
   "pygments_lexer": "ipython3",
   "version": "3.5.2"
  },
  "toc": {
   "base_numbering": 1,
   "nav_menu": {},
   "number_sections": true,
   "sideBar": true,
   "skip_h1_title": false,
   "title_cell": "Table of Contents",
   "title_sidebar": "Contents",
   "toc_cell": false,
   "toc_position": {},
   "toc_section_display": true,
   "toc_window_display": false
  },
  "widgets": {
   "state": {},
   "version": "1.1.2"
  }
 },
 "nbformat": 4,
 "nbformat_minor": 2
}
