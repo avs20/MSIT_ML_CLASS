{
 "cells": [
  {
   "cell_type": "markdown",
   "metadata": {},
   "source": [
    "## Dimension Reduction \n",
    "\n",
    "### Principal Component Analysis \n",
    "\n",
    "Does in 2 steps\n",
    "\n",
    "    De corelation : Doesn’t change data\n",
    "    Dimension reduction : compresses the data\n",
    "Decorrelation :\n",
    "\n",
    "    Transforms (rotation) the samples so that they align with axis \n",
    "    Shifts (translation) the samples to get the means as 0\n",
    "    No information is lost in this step\n"
   ]
  },
  {
   "cell_type": "code",
   "execution_count": 1,
   "metadata": {
    "collapsed": true
   },
   "outputs": [],
   "source": [
    "#import the modules"
   ]
  },
  {
   "cell_type": "code",
   "execution_count": 2,
   "metadata": {
    "collapsed": true
   },
   "outputs": [],
   "source": [
    "import pandas as pd \n",
    "import numpy as np \n",
    "from sklearn.decomposition import PCA"
   ]
  },
  {
   "cell_type": "code",
   "execution_count": 3,
   "metadata": {
    "collapsed": true
   },
   "outputs": [],
   "source": [
    "#load the dataset "
   ]
  },
  {
   "cell_type": "code",
   "execution_count": 4,
   "metadata": {
    "scrolled": true
   },
   "outputs": [
    {
     "name": "stdout",
     "output_type": "stream",
     "text": [
      "   class_label class_name  alcohol  malic_acid   ash  alcalinity_of_ash  \\\n",
      "0            1     Barolo    14.23        1.71  2.43               15.6   \n",
      "1            1     Barolo    13.20        1.78  2.14               11.2   \n",
      "2            1     Barolo    13.16        2.36  2.67               18.6   \n",
      "3            1     Barolo    14.37        1.95  2.50               16.8   \n",
      "4            1     Barolo    13.24        2.59  2.87               21.0   \n",
      "\n",
      "   magnesium  total_phenols  flavanoids  nonflavanoid_phenols  \\\n",
      "0        127           2.80        3.06                  0.28   \n",
      "1        100           2.65        2.76                  0.26   \n",
      "2        101           2.80        3.24                  0.30   \n",
      "3        113           3.85        3.49                  0.24   \n",
      "4        118           2.80        2.69                  0.39   \n",
      "\n",
      "   proanthocyanins  color_intensity   hue  od280  proline  \n",
      "0             2.29             5.64  1.04   3.92     1065  \n",
      "1             1.28             4.38  1.05   3.40     1050  \n",
      "2             2.81             5.68  1.03   3.17     1185  \n",
      "3             2.18             7.80  0.86   3.45     1480  \n",
      "4             1.82             4.32  1.04   2.93      735  \n"
     ]
    }
   ],
   "source": [
    "wine_data = pd.read_csv('../datasets/wine.csv')\n",
    "\n",
    "print(wine_data.head())"
   ]
  },
  {
   "cell_type": "code",
   "execution_count": 5,
   "metadata": {
    "scrolled": false
   },
   "outputs": [
    {
     "name": "stdout",
     "output_type": "stream",
     "text": [
      "[[ 2.8   3.92]\n",
      " [ 2.65  3.4 ]\n",
      " [ 2.8   3.17]\n",
      " [ 3.85  3.45]\n",
      " [ 2.8   2.93]\n",
      " [ 3.27  2.85]\n",
      " [ 2.5   3.58]\n",
      " [ 2.6   3.58]\n",
      " [ 2.8   2.85]\n",
      " [ 2.98  3.55]]\n"
     ]
    },
    {
     "data": {
      "image/png": "[encoded data removed]",
      "text/plain": [
       "<matplotlib.figure.Figure at 0x11a653198>"
      ]
     },
     "metadata": {},
     "output_type": "display_data"
    }
   ],
   "source": [
    "wine = wine_data[['total_phenols', 'od280']]\n",
    "wine = wine.values\n",
    "print(wine[0:10,:])\n",
    "\n",
    "import matplotlib.pyplot as plt\n",
    "%matplotlib inline \n",
    "\n",
    "plt.scatter(wine[:,0],wine[:,1])\n",
    "plt.show()"
   ]
  },
  {
   "cell_type": "markdown",
   "metadata": {},
   "source": [
    "#### Also check the correlation "
   ]
  },
  {
   "cell_type": "code",
   "execution_count": 6,
   "metadata": {},
   "outputs": [
    {
     "name": "stdout",
     "output_type": "stream",
     "text": [
      "0.699949364791\n"
     ]
    }
   ],
   "source": [
    "from scipy.stats import pearsonr\n",
    "\n",
    "correlation, p_value = pearsonr(wine[:,0], wine[:,1])\n",
    "print(correlation)"
   ]
  },
  {
   "cell_type": "code",
   "execution_count": 9,
   "metadata": {
    "collapsed": true
   },
   "outputs": [
    {
     "data": {
      "text/plain": [
       "array([[ 2.8 ,  3.92],\n",
       "       [ 2.65,  3.4 ],\n",
       "       [ 2.8 ,  3.17],\n",
       "       [ 3.85,  3.45],\n",
       "       [ 2.8 ,  2.93],\n",
       "       [ 3.27,  2.85],\n",
       "       [ 2.5 ,  3.58],\n",
       "       [ 2.6 ,  3.58],\n",
       "       [ 2.8 ,  2.85],\n",
       "       [ 2.98,  3.55],\n",
       "       [ 2.95,  3.17],\n",
       "       [ 2.2 ,  2.82],\n",
       "       [ 2.6 ,  2.9 ],\n",
       "       [ 3.1 ,  2.73],\n",
       "       [ 3.3 ,  3.  ],\n",
       "       [ 2.85,  2.88],\n",
       "       [ 2.8 ,  2.65],\n",
       "       [ 2.95,  2.57],\n",
       "       [ 3.3 ,  2.82],\n",
       "       [ 2.7 ,  3.36],\n",
       "       [ 3.  ,  3.71],\n",
       "       [ 2.41,  3.52],\n",
       "       [ 2.61,  4.  ],\n",
       "       [ 2.48,  3.63],\n",
       "       [ 2.53,  3.82],\n",
       "       [ 2.63,  3.2 ],\n",
       "       [ 2.85,  3.22],\n",
       "       [ 2.4 ,  2.77],\n",
       "       [ 2.95,  3.4 ],\n",
       "       [ 2.65,  3.59],\n",
       "       [ 3.  ,  2.71],\n",
       "       [ 2.86,  2.88],\n",
       "       [ 2.42,  2.87],\n",
       "       [ 2.95,  3.  ],\n",
       "       [ 2.35,  2.87],\n",
       "       [ 2.7 ,  3.47],\n",
       "       [ 2.6 ,  2.78],\n",
       "       [ 2.45,  2.51],\n",
       "       [ 2.4 ,  2.69],\n",
       "       [ 3.  ,  3.53],\n",
       "       [ 3.15,  3.38],\n",
       "       [ 2.45,  3.  ],\n",
       "       [ 3.25,  3.56],\n",
       "       [ 2.64,  3.  ],\n",
       "       [ 3.  ,  3.35],\n",
       "       [ 2.85,  3.33],\n",
       "       [ 3.25,  3.44],\n",
       "       [ 3.1 ,  3.33],\n",
       "       [ 2.75,  2.75],\n",
       "       [ 2.88,  3.1 ],\n",
       "       [ 2.72,  2.91],\n",
       "       [ 2.45,  3.37],\n",
       "       [ 3.88,  3.26],\n",
       "       [ 3.  ,  2.93],\n",
       "       [ 2.6 ,  3.2 ],\n",
       "       [ 2.96,  3.03],\n",
       "       [ 3.2 ,  3.31],\n",
       "       [ 3.  ,  2.84],\n",
       "       [ 3.4 ,  2.87],\n",
       "       [ 1.98,  1.82],\n",
       "       [ 2.05,  1.67],\n",
       "       [ 2.02,  1.59],\n",
       "       [ 2.1 ,  2.46],\n",
       "       [ 3.5 ,  2.87],\n",
       "       [ 1.89,  2.23],\n",
       "       [ 2.42,  2.3 ],\n",
       "       [ 2.98,  3.18],\n",
       "       [ 2.11,  3.48],\n",
       "       [ 2.53,  1.93],\n",
       "       [ 1.85,  3.07],\n",
       "       [ 1.1 ,  1.82],\n",
       "       [ 2.95,  3.16],\n",
       "       [ 1.88,  2.78],\n",
       "       [ 3.3 ,  3.5 ],\n",
       "       [ 3.38,  3.13],\n",
       "       [ 1.61,  2.14],\n",
       "       [ 1.95,  2.48],\n",
       "       [ 1.72,  2.52],\n",
       "       [ 1.9 ,  2.31],\n",
       "       [ 2.83,  3.13],\n",
       "       [ 2.42,  3.12],\n",
       "       [ 2.2 ,  3.14],\n",
       "       [ 2.  ,  2.72],\n",
       "       [ 1.65,  2.01],\n",
       "       [ 2.2 ,  3.08],\n",
       "       [ 2.2 ,  3.16],\n",
       "       [ 1.78,  2.26],\n",
       "       [ 1.92,  3.21],\n",
       "       [ 1.95,  2.75],\n",
       "       [ 2.2 ,  3.21],\n",
       "       [ 1.6 ,  2.27],\n",
       "       [ 1.45,  2.65],\n",
       "       [ 1.38,  2.06],\n",
       "       [ 2.45,  3.3 ],\n",
       "       [ 3.02,  2.96],\n",
       "       [ 2.5 ,  2.63],\n",
       "       [ 1.6 ,  2.26],\n",
       "       [ 2.55,  2.74],\n",
       "       [ 3.52,  2.77],\n",
       "       [ 2.85,  2.83],\n",
       "       [ 2.23,  2.96],\n",
       "       [ 1.45,  2.77],\n",
       "       [ 2.56,  3.38],\n",
       "       [ 2.5 ,  2.44],\n",
       "       [ 2.2 ,  3.57],\n",
       "       [ 1.68,  3.3 ],\n",
       "       [ 1.65,  3.17],\n",
       "       [ 1.38,  2.42],\n",
       "       [ 2.36,  3.02],\n",
       "       [ 2.74,  3.26],\n",
       "       [ 3.18,  2.81],\n",
       "       [ 2.55,  2.78],\n",
       "       [ 1.75,  2.5 ],\n",
       "       [ 2.48,  2.31],\n",
       "       [ 2.56,  3.19],\n",
       "       [ 2.46,  2.87],\n",
       "       [ 1.98,  3.33],\n",
       "       [ 2.  ,  2.96],\n",
       "       [ 1.63,  2.12],\n",
       "       [ 2.  ,  3.05],\n",
       "       [ 2.9 ,  3.39],\n",
       "       [ 3.18,  3.69],\n",
       "       [ 2.2 ,  3.12],\n",
       "       [ 2.62,  3.1 ],\n",
       "       [ 2.86,  3.64],\n",
       "       [ 2.6 ,  3.28],\n",
       "       [ 2.74,  2.84],\n",
       "       [ 2.13,  2.44],\n",
       "       [ 2.22,  2.78],\n",
       "       [ 2.1 ,  2.57],\n",
       "       [ 1.51,  1.29],\n",
       "       [ 1.3 ,  1.42],\n",
       "       [ 1.15,  1.36],\n",
       "       [ 1.7 ,  1.29],\n",
       "       [ 2.  ,  1.51],\n",
       "       [ 1.62,  1.58],\n",
       "       [ 1.38,  1.27],\n",
       "       [ 1.79,  1.69],\n",
       "       [ 1.62,  1.82],\n",
       "       [ 2.32,  2.15],\n",
       "       [ 1.54,  2.31],\n",
       "       [ 1.4 ,  2.47],\n",
       "       [ 1.55,  2.06],\n",
       "       [ 2.  ,  2.05],\n",
       "       [ 1.38,  2.  ],\n",
       "       [ 1.5 ,  1.68],\n",
       "       [ 0.98,  1.33],\n",
       "       [ 1.7 ,  1.86],\n",
       "       [ 1.93,  1.62],\n",
       "       [ 1.41,  1.33],\n",
       "       [ 1.4 ,  1.3 ],\n",
       "       [ 1.48,  1.47],\n",
       "       [ 2.2 ,  1.33],\n",
       "       [ 1.8 ,  1.51],\n",
       "       [ 1.48,  1.55],\n",
       "       [ 1.74,  1.48],\n",
       "       [ 1.8 ,  1.64],\n",
       "       [ 1.9 ,  1.73],\n",
       "       [ 2.8 ,  1.96],\n",
       "       [ 2.6 ,  1.78],\n",
       "       [ 2.3 ,  1.58],\n",
       "       [ 1.83,  1.82],\n",
       "       [ 1.65,  2.11],\n",
       "       [ 1.39,  1.75],\n",
       "       [ 1.35,  1.68],\n",
       "       [ 1.28,  1.75],\n",
       "       [ 1.7 ,  1.56],\n",
       "       [ 1.48,  1.75],\n",
       "       [ 1.55,  1.8 ],\n",
       "       [ 1.98,  1.92],\n",
       "       [ 1.25,  1.83],\n",
       "       [ 1.39,  1.63],\n",
       "       [ 1.68,  1.71],\n",
       "       [ 1.68,  1.74],\n",
       "       [ 1.8 ,  1.56],\n",
       "       [ 1.59,  1.56],\n",
       "       [ 1.65,  1.62],\n",
       "       [ 2.05,  1.6 ]])"
      ]
     },
     "execution_count": 9,
     "metadata": {},
     "output_type": "execute_result"
    }
   ],
   "source": [
    "# apply PCA"
   ]
  },
  {
   "cell_type": "code",
   "execution_count": 8,
   "metadata": {
    "scrolled": false
   },
   "outputs": [
    {
     "name": "stdout",
     "output_type": "stream",
     "text": [
      "[[-1.32771994  0.45139607]\n",
      " [-0.83249607  0.23309966]\n",
      " [-0.75216868 -0.02947892]\n",
      " [-1.64026613 -0.65572401]\n",
      " [-0.56799228 -0.18335891]\n",
      " [-0.80794847 -0.59533103]\n",
      " [-0.87445337  0.46361991]\n",
      " [-0.93857004  0.38687974]\n",
      " [-0.50660014 -0.23465224]\n",
      " [-1.15919131  0.07603211]]\n"
     ]
    },
    {
     "data": {
      "image/png": "[encoded data removed]",
      "text/plain": [
       "<matplotlib.figure.Figure at 0x11a62fbe0>"
      ]
     },
     "metadata": {},
     "output_type": "display_data"
    }
   ],
   "source": [
    "model = PCA()\n",
    "\n",
    "model.fit(wine)\n",
    "\n",
    "transformed = model.transform(wine)\n",
    "\n",
    "print(transformed[:10,:])\n",
    "\n",
    "plt.scatter(transformed[:,0], transformed[:,1])\n",
    "plt.show()\n"
   ]
  },
  {
   "cell_type": "markdown",
   "metadata": {},
   "source": [
    "Here we see that the axis is now centred around 0 and it's spread out in both directions equally"
   ]
  },
  {
   "cell_type": "code",
   "execution_count": 9,
   "metadata": {},
   "outputs": [
    {
     "name": "stdout",
     "output_type": "stream",
     "text": [
      "2.60898839978e-16\n"
     ]
    }
   ],
   "source": [
    "correlation, p_value = pearsonr(transformed[:,0], transformed[:,1])\n",
    "print(correlation)"
   ]
  },
  {
   "cell_type": "markdown",
   "metadata": {},
   "source": [
    "The correlation has been reduced to 0"
   ]
  },
  {
   "cell_type": "markdown",
   "metadata": {},
   "source": [
    "### Intrinsic Dimension"
   ]
  },
  {
   "cell_type": "code",
   "execution_count": 11,
   "metadata": {
    "collapsed": true
   },
   "outputs": [],
   "source": [
    "from sklearn import datasets \n",
    "iris_data = datasets.load_iris()"
   ]
  },
  {
   "cell_type": "code",
   "execution_count": 12,
   "metadata": {},
   "outputs": [
    {
     "data": {
      "text/plain": [
       "dict_keys(['feature_names', 'target', 'DESCR', 'target_names', 'data'])"
      ]
     },
     "execution_count": 12,
     "metadata": {},
     "output_type": "execute_result"
    }
   ],
   "source": [
    "iris_data.keys()"
   ]
  },
  {
   "cell_type": "code",
   "execution_count": null,
   "metadata": {
    "collapsed": true
   },
   "outputs": [],
   "source": []
  },
  {
   "cell_type": "code",
   "execution_count": 13,
   "metadata": {},
   "outputs": [
    {
     "data": {
      "text/html": [
       "<div>\n",
       "<style>\n",
       "    .dataframe thead tr:only-child th {\n",
       "        text-align: right;\n",
       "    }\n",
       "\n",
       "    .dataframe thead th {\n",
       "        text-align: left;\n",
       "    }\n",
       "\n",
       "    .dataframe tbody tr th {\n",
       "        vertical-align: top;\n",
       "    }\n",
       "</style>\n",
       "<table border=\"1\" class=\"dataframe\">\n",
       "  <thead>\n",
       "    <tr style=\"text-align: right;\">\n",
       "      <th></th>\n",
       "      <th>sepal length (cm)</th>\n",
       "      <th>sepal width (cm)</th>\n",
       "      <th>petal length (cm)</th>\n",
       "      <th>petal width (cm)</th>\n",
       "    </tr>\n",
       "  </thead>\n",
       "  <tbody>\n",
       "    <tr>\n",
       "      <th>versicolor</th>\n",
       "      <td>7.0</td>\n",
       "      <td>3.2</td>\n",
       "      <td>4.7</td>\n",
       "      <td>1.4</td>\n",
       "    </tr>\n",
       "    <tr>\n",
       "      <th>versicolor</th>\n",
       "      <td>6.4</td>\n",
       "      <td>3.2</td>\n",
       "      <td>4.5</td>\n",
       "      <td>1.5</td>\n",
       "    </tr>\n",
       "    <tr>\n",
       "      <th>versicolor</th>\n",
       "      <td>6.9</td>\n",
       "      <td>3.1</td>\n",
       "      <td>4.9</td>\n",
       "      <td>1.5</td>\n",
       "    </tr>\n",
       "    <tr>\n",
       "      <th>versicolor</th>\n",
       "      <td>5.5</td>\n",
       "      <td>2.3</td>\n",
       "      <td>4.0</td>\n",
       "      <td>1.3</td>\n",
       "    </tr>\n",
       "    <tr>\n",
       "      <th>versicolor</th>\n",
       "      <td>6.5</td>\n",
       "      <td>2.8</td>\n",
       "      <td>4.6</td>\n",
       "      <td>1.5</td>\n",
       "    </tr>\n",
       "  </tbody>\n",
       "</table>\n",
       "</div>"
      ],
      "text/plain": [
       "            sepal length (cm)  sepal width (cm)  petal length (cm)  \\\n",
       "versicolor                7.0               3.2                4.7   \n",
       "versicolor                6.4               3.2                4.5   \n",
       "versicolor                6.9               3.1                4.9   \n",
       "versicolor                5.5               2.3                4.0   \n",
       "versicolor                6.5               2.8                4.6   \n",
       "\n",
       "            petal width (cm)  \n",
       "versicolor               1.4  \n",
       "versicolor               1.5  \n",
       "versicolor               1.5  \n",
       "versicolor               1.3  \n",
       "versicolor               1.5  "
      ]
     },
     "execution_count": 13,
     "metadata": {},
     "output_type": "execute_result"
    }
   ],
   "source": [
    "from sklearn import datasets\n",
    "\n",
    "iris_data = datasets.load_iris()\n",
    "\n",
    "species = [iris_data['target_names'][x] for x in iris_data['target']]\n",
    "\n",
    "# print(x)\n",
    "df = pd.DataFrame(iris_data['data'], index = species, columns = iris_data['feature_names'])\n",
    "df.head()\n",
    "\n",
    "df2 = df.loc['versicolor']\n",
    "df2.head()"
   ]
  },
  {
   "cell_type": "code",
   "execution_count": 14,
   "metadata": {},
   "outputs": [
    {
     "data": {
      "image/png": "[encoded data removed]",
      "text/plain": [
       "<matplotlib.figure.Figure at 0x11ede0da0>"
      ]
     },
     "metadata": {},
     "output_type": "display_data"
    }
   ],
   "source": [
    "_3cols = df2[df2.columns[:3]].values\n",
    "\n",
    "from mpl_toolkits.mplot3d import Axes3D\n",
    "\n",
    "fig = plt.figure()\n",
    "ax = fig.add_subplot(111, projection='3d')\n",
    "\n",
    "\n",
    "plt.scatter(_3cols[:,0], _3cols[:,1], _3cols[:,2])\n",
    "plt.show()"
   ]
  },
  {
   "cell_type": "code",
   "execution_count": 15,
   "metadata": {},
   "outputs": [
    {
     "name": "stderr",
     "output_type": "stream",
     "text": [
      "/Users/t0mkaka/softwares/anaconda/envs/carnd-term1/lib/python3.5/site-packages/matplotlib/collections.py:877: RuntimeWarning: invalid value encountered in sqrt\n",
      "  scale = np.sqrt(self._sizes) * dpi / 72.0 * self._factor\n"
     ]
    },
    {
     "data": {
      "image/png": "[encoded data removed]",
      "text/plain": [
       "<matplotlib.figure.Figure at 0x11eeb32b0>"
      ]
     },
     "metadata": {},
     "output_type": "display_data"
    }
   ],
   "source": [
    "#PCA of above sample\n",
    "\n",
    "model = PCA()\n",
    "\n",
    "transformed = model.fit_transform(_3cols)\n",
    "\n",
    "fig = plt.figure()\n",
    "ax = fig.add_subplot(111, projection='3d')\n",
    "\n",
    "\n",
    "plt.scatter(transformed[:,0], transformed[:,1], transformed[:,2], marker='*')\n",
    "plt.show()"
   ]
  },
  {
   "cell_type": "markdown",
   "metadata": {},
   "source": [
    "### PCA for iris dataset"
   ]
  },
  {
   "cell_type": "code",
   "execution_count": 16,
   "metadata": {
    "scrolled": false
   },
   "outputs": [
    {
     "name": "stdout",
     "output_type": "stream",
     "text": [
      "[ 2.93035378  0.92740362  0.14834223  0.02074601]\n"
     ]
    },
    {
     "data": {
      "image/png": "[encoded data removed]",
      "text/plain": [
       "<matplotlib.figure.Figure at 0x11f053978>"
      ]
     },
     "metadata": {},
     "output_type": "display_data"
    }
   ],
   "source": [
    "iris = iris_data['data']\n",
    "\n",
    "model = PCA()\n",
    "\n",
    "from sklearn.preprocessing import StandardScaler\n",
    "\n",
    "iris = StandardScaler().fit_transform(iris)\n",
    "\n",
    "transformed = model.fit_transform(iris)\n",
    "\n",
    "variances = model.explained_variance_\n",
    "print(variances)\n",
    "features = range(len(variances))\n",
    "plt.bar(features, variances)\n",
    "plt.xticks(features)\n",
    "plt.xlabel(\"features\")\n",
    "plt.ylabel(\"Variances\")\n",
    "plt.title('Variance of iris features')\n",
    "plt.show()"
   ]
  },
  {
   "cell_type": "markdown",
   "metadata": {},
   "source": [
    "Based on the above plot we see that instead of 4 features only 2 will suffice "
   ]
  },
  {
   "cell_type": "code",
   "execution_count": 17,
   "metadata": {},
   "outputs": [
    {
     "name": "stdout",
     "output_type": "stream",
     "text": [
      "2\n",
      "4\n"
     ]
    }
   ],
   "source": [
    "model = PCA(n_components=2)\n",
    "pca_features = model.fit_transform(iris)\n",
    "print(model.n_components_)\n",
    "print(model.n_features_)"
   ]
  },
  {
   "cell_type": "code",
   "execution_count": 18,
   "metadata": {},
   "outputs": [
    {
     "data": {
      "text/plain": [
       "array([[ 0.52237162, -0.26335492,  0.58125401,  0.56561105],\n",
       "       [ 0.37231836,  0.92555649,  0.02109478,  0.06541577]])"
      ]
     },
     "execution_count": 18,
     "metadata": {},
     "output_type": "execute_result"
    }
   ],
   "source": [
    "model.components_"
   ]
  },
  {
   "cell_type": "code",
   "execution_count": 19,
   "metadata": {
    "scrolled": false
   },
   "outputs": [
    {
     "name": "stdout",
     "output_type": "stream",
     "text": [
      "[[-2.26454173  0.5057039 ]\n",
      " [-2.0864255  -0.65540473]\n",
      " [-2.36795045 -0.31847731]\n",
      " [-2.30419716 -0.57536771]\n",
      " [-2.38877749  0.6747674 ]\n",
      " [-2.07053681  1.51854856]\n",
      " [-2.44571134  0.07456268]\n",
      " [-2.23384186  0.24761393]\n",
      " [-2.34195768 -1.09514636]\n",
      " [-2.18867576 -0.44862905]]\n"
     ]
    }
   ],
   "source": [
    "print(pca_features[:10,])"
   ]
  },
  {
   "cell_type": "code",
   "execution_count": 81,
   "metadata": {},
   "outputs": [
    {
     "data": {
      "text/plain": [
       "array([[-2.26454173,  0.5057039 ],\n",
       "       [-2.0864255 , -0.65540473],\n",
       "       [-2.36795045, -0.31847731],\n",
       "       [-2.30419716, -0.57536771],\n",
       "       [-2.38877749,  0.6747674 ],\n",
       "       [-2.07053681,  1.51854856],\n",
       "       [-2.44571134,  0.07456268],\n",
       "       [-2.23384186,  0.24761393],\n",
       "       [-2.34195768, -1.09514636],\n",
       "       [-2.18867576, -0.44862905]])"
      ]
     },
     "execution_count": 81,
     "metadata": {},
     "output_type": "execute_result"
    }
   ],
   "source": [
    "np.matmul(iris, model.components_.T)[:10,]"
   ]
  },
  {
   "cell_type": "code",
   "execution_count": null,
   "metadata": {
    "collapsed": true
   },
   "outputs": [],
   "source": []
  }
 ],
 "metadata": {
  "kernelspec": {
   "display_name": "Python [conda env:carnd-term1]",
   "language": "python",
   "name": "conda-env-carnd-term1-py"
  },
  "language_info": {
   "codemirror_mode": {
    "name": "ipython",
    "version": 3
   },
   "file_extension": ".py",
   "mimetype": "text/x-python",
   "name": "python",
   "nbconvert_exporter": "python",
   "pygments_lexer": "ipython3",
   "version": "3.5.2"
  }
 },
 "nbformat": 4,
 "nbformat_minor": 2
}
