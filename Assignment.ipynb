{
 "cells": [
  {
   "cell_type": "code",
   "execution_count": 1,
   "metadata": {},
   "outputs": [
    {
     "name": "stdout",
     "output_type": "stream",
     "text": [
      "spam\n"
     ]
    }
   ],
   "source": [
    "#Q1 Value of A isn't changed\n",
    "A=\"spam\"\n",
    "B=A\n",
    "B=\"shubbery\"\n",
    "print(A)"
   ]
  },
  {
   "cell_type": "code",
   "execution_count": 2,
   "metadata": {},
   "outputs": [
    {
     "name": "stdout",
     "output_type": "stream",
     "text": [
      "['shubbery']\n"
     ]
    }
   ],
   "source": [
    "#Q2 List value has been changed\n",
    "A=[\"spam\"]\n",
    "B=A\n",
    "B[0]=\"shubbery\"\n",
    "print(A)"
   ]
  },
  {
   "cell_type": "code",
   "execution_count": 4,
   "metadata": {},
   "outputs": [
    {
     "name": "stdout",
     "output_type": "stream",
     "text": [
      "['spam']\n"
     ]
    }
   ],
   "source": [
    "#Q3\n",
    "A=[\"spam\"]\n",
    "B=A[:]\n",
    "B[0]=\"shubbery\"\n",
    "print(A)"
   ]
  },
  {
   "cell_type": "code",
   "execution_count": 5,
   "metadata": {},
   "outputs": [
    {
     "name": "stdout",
     "output_type": "stream",
     "text": [
      "Enter your name:Lakshay\n",
      "Hello Lakshay\n"
     ]
    }
   ],
   "source": [
    "#Q4\n",
    "name=input('Enter your name:')\n",
    "print('Hello',name)"
   ]
  },
  {
   "cell_type": "code",
   "execution_count": 8,
   "metadata": {},
   "outputs": [
    {
     "name": "stdout",
     "output_type": "stream",
     "text": [
      "Enter the width (in fts):2\n",
      "Enter the length (in fts):2\n",
      "Area of the room is: 3716.1216 sq. cm\n"
     ]
    }
   ],
   "source": [
    "#Q5\n",
    "width=float(input('Enter the width (in fts):'))\n",
    "length=float(input('Enter the length (in fts):'))\n",
    "\n",
    "area=length*width\n",
    "print('Area of the room is:',area,'sq. ft')"
   ]
  },
  {
   "cell_type": "code",
   "execution_count": 9,
   "metadata": {},
   "outputs": [
    {
     "name": "stdout",
     "output_type": "stream",
     "text": [
      "Enter a number:3\n",
      "6\n"
     ]
    }
   ],
   "source": [
    "#Q6\n",
    "n=int(input(\"Enter a number:\"))\n",
    "print(int(n*(n+1)/2))"
   ]
  },
  {
   "cell_type": "code",
   "execution_count": 10,
   "metadata": {},
   "outputs": [
    {
     "name": "stdout",
     "output_type": "stream",
     "text": [
      "Enter the first operand:2\n",
      "Enter the second operand:3\n",
      "The sum is: 5\n",
      "The difference is: -1\n",
      "The product is: 6\n",
      "The quotient is: 0\n",
      "The remainder is: 2\n",
      "The exponent is: 8\n"
     ]
    }
   ],
   "source": [
    "#Q7\n",
    "a=int(input(\"Enter the first operand:\"))\n",
    "b=int(input(\"Enter the second operand:\"))\n",
    "print(\"The sum is:\",a+b)\n",
    "print(\"The difference is:\",a-b)\n",
    "print(\"The product is:\",a*b)\n",
    "print(\"The quotient is:\",a//b)\n",
    "print(\"The remainder is:\",a%b)\n",
    "print(\"The exponent is:\",a**b)"
   ]
  },
  {
   "cell_type": "code",
   "execution_count": 12,
   "metadata": {},
   "outputs": [
    {
     "name": "stdout",
     "output_type": "stream",
     "text": [
      "Enter your height (in cm):180\n",
      "5.905511811023622 ft\n"
     ]
    }
   ],
   "source": [
    "#Q8\n",
    "height=float(input('Enter your height (in cm):'))\n",
    "factor=2.54*12\n",
    "height=height/factor\n",
    "print(height,'ft')"
   ]
  },
  {
   "cell_type": "code",
   "execution_count": 13,
   "metadata": {},
   "outputs": [
    {
     "name": "stdout",
     "output_type": "stream",
     "text": [
      "Enter a number:1\n",
      "Enter a number:5\n",
      "Enter a number:19\n",
      "1 5 19\n"
     ]
    }
   ],
   "source": [
    "#Q9\n",
    "a=int(input('Enter a number:'))\n",
    "b=int(input('Enter a number:'))\n",
    "c=int(input('Enter a number:'))\n",
    "print(min(a,b,c),a+b+c-min(a,b,c)-max(a,b,c),max(a,b,c))"
   ]
  },
  {
   "cell_type": "code",
   "execution_count": 16,
   "metadata": {},
   "outputs": [
    {
     "name": "stdout",
     "output_type": "stream",
     "text": [
      "Enter month:February\n",
      "28 or 29\n"
     ]
    }
   ],
   "source": [
    "#Q10\n",
    "month={'January':31\n",
    "      ,'February':'28 or 29'\n",
    "      ,'March':31\n",
    "      ,'April':30\n",
    "      ,'May':31\n",
    "      ,'June':30\n",
    "      ,'July':31\n",
    "      ,'August':31\n",
    "      ,'September':30\n",
    "      ,'October':31\n",
    "       ,'November':30\n",
    "       ,'December':31\n",
    "      }\n",
    "mon=input('Enter month:')\n",
    "print(month[mon])"
   ]
  },
  {
   "cell_type": "code",
   "execution_count": 23,
   "metadata": {},
   "outputs": [
    {
     "name": "stdout",
     "output_type": "stream",
     "text": [
      "Enter number:2\n",
      "Enter number4\n",
      "Enter number0\n",
      "[2, 4]\n",
      "3.0\n"
     ]
    }
   ],
   "source": [
    "#Q11\n",
    "data=[]\n",
    "c=int(input('Enter number:'))\n",
    "sm=0\n",
    "k=0\n",
    "if c==0:\n",
    "    print('List is reqd.')\n",
    "else:\n",
    "    data.append(c)\n",
    "    while c!=0:\n",
    "        c=int(input('Enter number'))\n",
    "        if c!=0:\n",
    "            data.append(c)\n",
    "print(data)\n",
    "for c in data:\n",
    "    sm=sm+c\n",
    "    k=k+1\n",
    "print(sm/k)"
   ]
  },
  {
   "cell_type": "code",
   "execution_count": 94,
   "metadata": {},
   "outputs": [
    {
     "name": "stdout",
     "output_type": "stream",
     "text": [
      "Enter number:178\n",
      "13.341664064126334\n"
     ]
    }
   ],
   "source": [
    "#Q12\n",
    "def sqrt(x):\n",
    "    #x=int(input('Enter number:'))\n",
    "    guess=x/2\n",
    "    while guess**2 - x >0.00000000001:\n",
    "        guess=(guess+x/guess)/2\n",
    "    print(guess)\n",
    "x=int(input('Enter number:'))\n",
    "sqrt(x)"
   ]
  },
  {
   "cell_type": "code",
   "execution_count": 31,
   "metadata": {},
   "outputs": [
    {
     "name": "stdout",
     "output_type": "stream",
     "text": [
      "Enter number:3\n",
      "Enter number:4\n",
      "5.0\n",
      "None\n"
     ]
    }
   ],
   "source": [
    "#Q13\n",
    "def hype(a,b):\n",
    "    c=a*a+b*b\n",
    "    h=sqrt(c)\n",
    "    return h\n",
    "a=int(input('Enter number:'))\n",
    "b=int(input('Enter number:'))\n",
    "print(hype(a,b))"
   ]
  },
  {
   "cell_type": "code",
   "execution_count": 35,
   "metadata": {},
   "outputs": [
    {
     "name": "stdout",
     "output_type": "stream",
     "text": [
      "[11, 12, 100]\n"
     ]
    },
    {
     "data": {
      "text/plain": [
       "12"
      ]
     },
     "execution_count": 35,
     "metadata": {},
     "output_type": "execute_result"
    }
   ],
   "source": [
    "#Q14\n",
    "data=[]\n",
    "def med(a,b,c):\n",
    "    data.append(a)\n",
    "    data.append(b)\n",
    "    data.append(c)\n",
    "    data.sort()\n",
    "    print(data)\n",
    "    return data[1]\n",
    "med(12,11,100)"
   ]
  },
  {
   "cell_type": "code",
   "execution_count": 64,
   "metadata": {},
   "outputs": [
    {
     "name": "stdout",
     "output_type": "stream",
     "text": [
      "Enter a string:My name is Lakshay and i am f i ne\n",
      "My name is lakshay and I am f I ne\n"
     ]
    }
   ],
   "source": [
    "#Q15\n",
    "string=input('Enter a string:')\n",
    "string=string.capitalize()\n",
    "string=string.replace(' i ',' I ')\n",
    "print(string)"
   ]
  },
  {
   "cell_type": "code",
   "execution_count": 63,
   "metadata": {},
   "outputs": [
    {
     "name": "stdout",
     "output_type": "stream",
     "text": [
      "Randomly generated: 2 3 5 5 C L L\n",
      "None\n"
     ]
    }
   ],
   "source": [
    "#Q16\n",
    "import random,string\n",
    "def gno():\n",
    "    return random.randint(0,9)\n",
    "def ch():\n",
    "    return random.randint(1,2)\n",
    "def gnm():\n",
    "    return random.choice(string.ascii_uppercase)\n",
    "\n",
    "def chosen():\n",
    "    if ch()==1:\n",
    "        print('Randomly generated:',gnm(),gnm(),gnm(),gno(),gno(),gno())\n",
    "    else:\n",
    "        print('Randomly generated:',gno(),gno(),gno(),gno(),gnm(),gnm(),gnm())\n",
    "#main\n",
    "print(chosen())"
   ]
  },
  {
   "cell_type": "code",
   "execution_count": 93,
   "metadata": {},
   "outputs": [
    {
     "name": "stdout",
     "output_type": "stream",
     "text": [
      "2\n",
      "99\n",
      "0\n",
      "End\n",
      "Original list: [2, 99]\n",
      "Reverse list:\n",
      "99\n",
      "2\n"
     ]
    }
   ],
   "source": [
    "#Q17\n",
    "c=[]\n",
    "i=int(input())\n",
    "if i==0:\n",
    "    print(\"List needed\")\n",
    "else:\n",
    "    c.append(i)\n",
    "    while i!=0:\n",
    "        i=int(input())\n",
    "        if i==0:\n",
    "            print(\"End\")\n",
    "        else:\n",
    "            c.append(i)\n",
    "print('Original list:',c)\n",
    "print('Reverse list:')\n",
    "for i in range(len(c)-1,-1,-1):\n",
    "    print(c[i])"
   ]
  },
  {
   "cell_type": "markdown",
   "metadata": {},
   "source": [
    "#### Q18\n",
    "1. W\n",
    "2. g\n",
    "3. hingt\n",
    "4. Washington\n",
    "5. H.S.\n",
    "6. Error\n",
    "7. 19\n",
    "8. 0\n",
    "9. schoolName[11:14]\n",
    "10. sample[-1]\n",
    "11. s='The quick brown fox jumps over the lazy dog'\n",
    "    a) s[0]\n",
    "    b) s[4]\n",
    "    c) s[18]\n",
    "    d) s[10:15]\n",
    "    e) s[-8:-4]\n",
    "    f) s[20:]\n",
    "12. for a in s:\n",
    "        print(a)\n",
    "13. for a in s step -1:\n",
    "        print(a)"
   ]
  },
  {
   "cell_type": "code",
   "execution_count": 67,
   "metadata": {},
   "outputs": [
    {
     "name": "stdout",
     "output_type": "stream",
     "text": [
      "Enter the message to be decoded:LAKSHAY\n",
      ".-.. .- -.- ... .... .- -.-- "
     ]
    }
   ],
   "source": [
    "#Q19\n",
    "morse={'A':'.-','B':'-...','C':'-.-.','D':'-..','E':'.','F':'..-.','G':'--.','H':'....','I':'..','J':'.---','K':'-.-','L':'.-..','M':'--','N':'-.','O':'---','P':'.--.','Q':'--.-','R':'.-.','S':'...','T':'-','U':'..-','V':'...-','W':'.--','X':'-..-','Y':'-.--','Z':'--..','0':'-----','1':'.----','2':'..---','3':'...--','4':'....-','5':'.....','6':'-....','7':'--...','8':'---..','9':'----.'}\n",
    "string=input('Enter the message to be decoded:')\n",
    "for i in string:\n",
    "    print(morse[i],end=\" \")"
   ]
  },
  {
   "cell_type": "code",
   "execution_count": 89,
   "metadata": {},
   "outputs": [
    {
     "name": "stdout",
     "output_type": "stream",
     "text": [
      "lakshay\n",
      "6\n"
     ]
    }
   ],
   "source": [
    "#Q20\n",
    "unq={}\n",
    "string=input()\n",
    "for i in string:\n",
    "    unq[i]='unique key'\n",
    "print(len(unq))\n"
   ]
  },
  {
   "cell_type": "code",
   "execution_count": 88,
   "metadata": {},
   "outputs": [
    {
     "name": "stdout",
     "output_type": "stream",
     "text": [
      "Enter a string:lakshay\n",
      "Enter width:25\n",
      "         lakshay         \n"
     ]
    }
   ],
   "source": [
    "#Q22\n",
    "def func(string,w):\n",
    "    if(len(string)>w):\n",
    "        return string\n",
    "    else:\n",
    "        var1=w-len(string)\n",
    "        var=var1//2\n",
    "        string=' '*var+string+' '*var\n",
    "        return string\n",
    "\n",
    "\n",
    "string=input('Enter a string:')\n",
    "w=int(input('Enter width:'))\n",
    "print(func(string,w))"
   ]
  },
  {
   "cell_type": "code",
   "execution_count": 86,
   "metadata": {},
   "outputs": [
    {
     "name": "stdout",
     "output_type": "stream",
     "text": [
      "Enter a string:  +23\n",
      "Integer\n"
     ]
    }
   ],
   "source": [
    "#Q23\n",
    "def isinteger(str2):\n",
    "    f = 0\n",
    "    for i in range(len(str2)):\n",
    "        if str2[i]==' ':\n",
    "            pass\n",
    "        elif str2[i]=='+' or str2[i]=='-':\n",
    "            j = i\n",
    "            f = 1\n",
    "            break\n",
    "        elif ord(str2[i])>=48 and ord(str2[i])<=57:\n",
    "            j = i\n",
    "            f = 2\n",
    "            break\n",
    "        else:\n",
    "            print('Not an integer')\n",
    "            return\n",
    "    \n",
    "    if f == 0:\n",
    "        print('Integer')\n",
    "        return\n",
    "    if i >= len(str2)-1 and f==2:\n",
    "        print('Integer')\n",
    "        return\n",
    "    \n",
    "    for i in range(j+1,len(str2)):\n",
    "        if ord(str2[i])>=48 and ord(str2[i])<=57:\n",
    "            f=3\n",
    "            pass\n",
    "        elif str2[i] == ' ':\n",
    "            k = i\n",
    "            break\n",
    "        else:\n",
    "            print('Not an integer')\n",
    "            return\n",
    "    \n",
    "    \n",
    "    if i >= len(str2)-1 and (f==3 or f==2):\n",
    "        print('Integer')\n",
    "        return\n",
    "    if f!=3:\n",
    "        print('Not an integer')\n",
    "        return\n",
    "    \n",
    "    for i in range(k+1,len(str2)):\n",
    "        if str2[i]==' ':\n",
    "            pass\n",
    "        else:\n",
    "            print('Not an integer')\n",
    "            return\n",
    "    print('Integer')        \n",
    "\n",
    "\n",
    "\n",
    "str1 = input('Enter a string: ')\n",
    "isinteger(str1)"
   ]
  },
  {
   "cell_type": "code",
   "execution_count": 78,
   "metadata": {},
   "outputs": [
    {
     "data": {
      "text/plain": [
       "True"
      ]
     },
     "execution_count": 78,
     "metadata": {},
     "output_type": "execute_result"
    }
   ],
   "source": [
    "#Q24\n",
    "def prime(x):\n",
    "    if x==2:\n",
    "        return True\n",
    "    else:\n",
    "        for i in range(2,x):\n",
    "            if x%i==0:\n",
    "                return False\n",
    "    return True\n",
    "prime(11)"
   ]
  }
 ],
 "metadata": {
  "kernelspec": {
   "display_name": "Python 3",
   "language": "python",
   "name": "python3"
  },
  "language_info": {
   "codemirror_mode": {
    "name": "ipython",
    "version": 3
   },
   "file_extension": ".py",
   "mimetype": "text/x-python",
   "name": "python",
   "nbconvert_exporter": "python",
   "pygments_lexer": "ipython3",
   "version": "3.6.5"
  }
 },
 "nbformat": 4,
 "nbformat_minor": 2
}
